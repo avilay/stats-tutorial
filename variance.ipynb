{
 "cells": [
  {
   "cell_type": "code",
   "execution_count": 2,
   "metadata": {},
   "outputs": [],
   "source": [
    "import numpy as np\n",
    "import matplotlib.pyplot as plt"
   ]
  },
  {
   "cell_type": "code",
   "execution_count": 3,
   "metadata": {},
   "outputs": [],
   "source": [
    "np.set_printoptions(precision=3)"
   ]
  },
  {
   "cell_type": "code",
   "execution_count": 4,
   "metadata": {},
   "outputs": [],
   "source": [
    "%matplotlib inline"
   ]
  },
  {
   "cell_type": "code",
   "execution_count": 5,
   "metadata": {},
   "outputs": [],
   "source": [
    "x = np.random.normal(loc=10, scale=3, size=1000)"
   ]
  },
  {
   "cell_type": "code",
   "execution_count": 6,
   "metadata": {},
   "outputs": [
    {
     "output_type": "execute_result",
     "data": {
      "text/plain": "(array([ 19.,  47.,  97., 186., 228., 189., 135.,  71.,  21.,   7.]),\n array([ 2.057,  3.743,  5.428,  7.114,  8.8  , 10.485, 12.171, 13.856,\n        15.542, 17.227, 18.913]),\n <a list of 10 Patch objects>)"
     },
     "metadata": {},
     "execution_count": 6
    },
    {
     "output_type": "display_data",
     "data": {
      "text/plain": "<Figure size 432x288 with 1 Axes>",
      "image/svg+xml": "<?xml version=\"1.0\" encoding=\"utf-8\" standalone=\"no\"?>\n<!DOCTYPE svg PUBLIC \"-//W3C//DTD SVG 1.1//EN\"\n  \"http://www.w3.org/Graphics/SVG/1.1/DTD/svg11.dtd\">\n<!-- Created with matplotlib (https://matplotlib.org/) -->\n<svg height=\"248.518125pt\" version=\"1.1\" viewBox=\"0 0 375.2875 248.518125\" width=\"375.2875pt\" xmlns=\"http://www.w3.org/2000/svg\" xmlns:xlink=\"http://www.w3.org/1999/xlink\">\n <defs>\n  <style type=\"text/css\">\n*{stroke-linecap:butt;stroke-linejoin:round;}\n  </style>\n </defs>\n <g id=\"figure_1\">\n  <g id=\"patch_1\">\n   <path d=\"M 0 248.518125 \nL 375.2875 248.518125 \nL 375.2875 0 \nL 0 0 \nz\n\" style=\"fill:none;\"/>\n  </g>\n  <g id=\"axes_1\">\n   <g id=\"patch_2\">\n    <path d=\"M 33.2875 224.64 \nL 368.0875 224.64 \nL 368.0875 7.2 \nL 33.2875 7.2 \nz\n\" style=\"fill:#ffffff;\"/>\n   </g>\n   <g id=\"patch_3\">\n    <path clip-path=\"url(#pd8fac6c7f8)\" d=\"M 48.505682 224.64 \nL 78.942045 224.64 \nL 78.942045 207.382857 \nL 48.505682 207.382857 \nz\n\" style=\"fill:#1f77b4;\"/>\n   </g>\n   <g id=\"patch_4\">\n    <path clip-path=\"url(#pd8fac6c7f8)\" d=\"M 78.942045 224.64 \nL 109.378409 224.64 \nL 109.378409 181.951278 \nL 78.942045 181.951278 \nz\n\" style=\"fill:#1f77b4;\"/>\n   </g>\n   <g id=\"patch_5\">\n    <path clip-path=\"url(#pd8fac6c7f8)\" d=\"M 109.378409 224.64 \nL 139.814773 224.64 \nL 139.814773 136.537744 \nL 109.378409 136.537744 \nz\n\" style=\"fill:#1f77b4;\"/>\n   </g>\n   <g id=\"patch_6\">\n    <path clip-path=\"url(#pd8fac6c7f8)\" d=\"M 139.814773 224.64 \nL 170.251136 224.64 \nL 170.251136 55.701654 \nL 139.814773 55.701654 \nz\n\" style=\"fill:#1f77b4;\"/>\n   </g>\n   <g id=\"patch_7\">\n    <path clip-path=\"url(#pd8fac6c7f8)\" d=\"M 170.251136 224.64 \nL 200.6875 224.64 \nL 200.6875 17.554286 \nL 170.251136 17.554286 \nz\n\" style=\"fill:#1f77b4;\"/>\n   </g>\n   <g id=\"patch_8\">\n    <path clip-path=\"url(#pd8fac6c7f8)\" d=\"M 200.6875 224.64 \nL 231.123864 224.64 \nL 231.123864 52.976842 \nL 200.6875 52.976842 \nz\n\" style=\"fill:#1f77b4;\"/>\n   </g>\n   <g id=\"patch_9\">\n    <path clip-path=\"url(#pd8fac6c7f8)\" d=\"M 231.123864 224.64 \nL 261.560227 224.64 \nL 261.560227 102.023459 \nL 231.123864 102.023459 \nz\n\" style=\"fill:#1f77b4;\"/>\n   </g>\n   <g id=\"patch_10\">\n    <path clip-path=\"url(#pd8fac6c7f8)\" d=\"M 261.560227 224.64 \nL 291.996591 224.64 \nL 291.996591 160.152782 \nL 261.560227 160.152782 \nz\n\" style=\"fill:#1f77b4;\"/>\n   </g>\n   <g id=\"patch_11\">\n    <path clip-path=\"url(#pd8fac6c7f8)\" d=\"M 291.996591 224.64 \nL 322.432955 224.64 \nL 322.432955 205.566316 \nL 291.996591 205.566316 \nz\n\" style=\"fill:#1f77b4;\"/>\n   </g>\n   <g id=\"patch_12\">\n    <path clip-path=\"url(#pd8fac6c7f8)\" d=\"M 322.432955 224.64 \nL 352.869318 224.64 \nL 352.869318 218.282105 \nL 322.432955 218.282105 \nz\n\" style=\"fill:#1f77b4;\"/>\n   </g>\n   <g id=\"matplotlib.axis_1\">\n    <g id=\"xtick_1\">\n     <g id=\"line2d_1\">\n      <defs>\n       <path d=\"M 0 0 \nL 0 3.5 \n\" id=\"m1a42af109f\" style=\"stroke:#000000;stroke-width:0.8;\"/>\n      </defs>\n      <g>\n       <use style=\"stroke:#000000;stroke-width:0.8;\" x=\"56.498735\" xlink:href=\"#m1a42af109f\" y=\"224.64\"/>\n      </g>\n     </g>\n     <g id=\"text_1\">\n      <!-- 2.5 -->\n      <defs>\n       <path d=\"M 19.1875 8.296875 \nL 53.609375 8.296875 \nL 53.609375 0 \nL 7.328125 0 \nL 7.328125 8.296875 \nQ 12.9375 14.109375 22.625 23.890625 \nQ 32.328125 33.6875 34.8125 36.53125 \nQ 39.546875 41.84375 41.421875 45.53125 \nQ 43.3125 49.21875 43.3125 52.78125 \nQ 43.3125 58.59375 39.234375 62.25 \nQ 35.15625 65.921875 28.609375 65.921875 \nQ 23.96875 65.921875 18.8125 64.3125 \nQ 13.671875 62.703125 7.8125 59.421875 \nL 7.8125 69.390625 \nQ 13.765625 71.78125 18.9375 73 \nQ 24.125 74.21875 28.421875 74.21875 \nQ 39.75 74.21875 46.484375 68.546875 \nQ 53.21875 62.890625 53.21875 53.421875 \nQ 53.21875 48.921875 51.53125 44.890625 \nQ 49.859375 40.875 45.40625 35.40625 \nQ 44.1875 33.984375 37.640625 27.21875 \nQ 31.109375 20.453125 19.1875 8.296875 \nz\n\" id=\"DejaVuSans-50\"/>\n       <path d=\"M 10.6875 12.40625 \nL 21 12.40625 \nL 21 0 \nL 10.6875 0 \nz\n\" id=\"DejaVuSans-46\"/>\n       <path d=\"M 10.796875 72.90625 \nL 49.515625 72.90625 \nL 49.515625 64.59375 \nL 19.828125 64.59375 \nL 19.828125 46.734375 \nQ 21.96875 47.46875 24.109375 47.828125 \nQ 26.265625 48.1875 28.421875 48.1875 \nQ 40.625 48.1875 47.75 41.5 \nQ 54.890625 34.8125 54.890625 23.390625 \nQ 54.890625 11.625 47.5625 5.09375 \nQ 40.234375 -1.421875 26.90625 -1.421875 \nQ 22.3125 -1.421875 17.546875 -0.640625 \nQ 12.796875 0.140625 7.71875 1.703125 \nL 7.71875 11.625 \nQ 12.109375 9.234375 16.796875 8.0625 \nQ 21.484375 6.890625 26.703125 6.890625 \nQ 35.15625 6.890625 40.078125 11.328125 \nQ 45.015625 15.765625 45.015625 23.390625 \nQ 45.015625 31 40.078125 35.4375 \nQ 35.15625 39.890625 26.703125 39.890625 \nQ 22.75 39.890625 18.8125 39.015625 \nQ 14.890625 38.140625 10.796875 36.28125 \nz\n\" id=\"DejaVuSans-53\"/>\n      </defs>\n      <g transform=\"translate(48.547172 239.238437)scale(0.1 -0.1)\">\n       <use xlink:href=\"#DejaVuSans-50\"/>\n       <use x=\"63.623047\" xlink:href=\"#DejaVuSans-46\"/>\n       <use x=\"95.410156\" xlink:href=\"#DejaVuSans-53\"/>\n      </g>\n     </g>\n    </g>\n    <g id=\"xtick_2\">\n     <g id=\"line2d_2\">\n      <g>\n       <use style=\"stroke:#000000;stroke-width:0.8;\" x=\"101.64127\" xlink:href=\"#m1a42af109f\" y=\"224.64\"/>\n      </g>\n     </g>\n     <g id=\"text_2\">\n      <!-- 5.0 -->\n      <defs>\n       <path d=\"M 31.78125 66.40625 \nQ 24.171875 66.40625 20.328125 58.90625 \nQ 16.5 51.421875 16.5 36.375 \nQ 16.5 21.390625 20.328125 13.890625 \nQ 24.171875 6.390625 31.78125 6.390625 \nQ 39.453125 6.390625 43.28125 13.890625 \nQ 47.125 21.390625 47.125 36.375 \nQ 47.125 51.421875 43.28125 58.90625 \nQ 39.453125 66.40625 31.78125 66.40625 \nz\nM 31.78125 74.21875 \nQ 44.046875 74.21875 50.515625 64.515625 \nQ 56.984375 54.828125 56.984375 36.375 \nQ 56.984375 17.96875 50.515625 8.265625 \nQ 44.046875 -1.421875 31.78125 -1.421875 \nQ 19.53125 -1.421875 13.0625 8.265625 \nQ 6.59375 17.96875 6.59375 36.375 \nQ 6.59375 54.828125 13.0625 64.515625 \nQ 19.53125 74.21875 31.78125 74.21875 \nz\n\" id=\"DejaVuSans-48\"/>\n      </defs>\n      <g transform=\"translate(93.689708 239.238437)scale(0.1 -0.1)\">\n       <use xlink:href=\"#DejaVuSans-53\"/>\n       <use x=\"63.623047\" xlink:href=\"#DejaVuSans-46\"/>\n       <use x=\"95.410156\" xlink:href=\"#DejaVuSans-48\"/>\n      </g>\n     </g>\n    </g>\n    <g id=\"xtick_3\">\n     <g id=\"line2d_3\">\n      <g>\n       <use style=\"stroke:#000000;stroke-width:0.8;\" x=\"146.783806\" xlink:href=\"#m1a42af109f\" y=\"224.64\"/>\n      </g>\n     </g>\n     <g id=\"text_3\">\n      <!-- 7.5 -->\n      <defs>\n       <path d=\"M 8.203125 72.90625 \nL 55.078125 72.90625 \nL 55.078125 68.703125 \nL 28.609375 0 \nL 18.3125 0 \nL 43.21875 64.59375 \nL 8.203125 64.59375 \nz\n\" id=\"DejaVuSans-55\"/>\n      </defs>\n      <g transform=\"translate(138.832243 239.238437)scale(0.1 -0.1)\">\n       <use xlink:href=\"#DejaVuSans-55\"/>\n       <use x=\"63.623047\" xlink:href=\"#DejaVuSans-46\"/>\n       <use x=\"95.410156\" xlink:href=\"#DejaVuSans-53\"/>\n      </g>\n     </g>\n    </g>\n    <g id=\"xtick_4\">\n     <g id=\"line2d_4\">\n      <g>\n       <use style=\"stroke:#000000;stroke-width:0.8;\" x=\"191.926341\" xlink:href=\"#m1a42af109f\" y=\"224.64\"/>\n      </g>\n     </g>\n     <g id=\"text_4\">\n      <!-- 10.0 -->\n      <defs>\n       <path d=\"M 12.40625 8.296875 \nL 28.515625 8.296875 \nL 28.515625 63.921875 \nL 10.984375 60.40625 \nL 10.984375 69.390625 \nL 28.421875 72.90625 \nL 38.28125 72.90625 \nL 38.28125 8.296875 \nL 54.390625 8.296875 \nL 54.390625 0 \nL 12.40625 0 \nz\n\" id=\"DejaVuSans-49\"/>\n      </defs>\n      <g transform=\"translate(180.793529 239.238437)scale(0.1 -0.1)\">\n       <use xlink:href=\"#DejaVuSans-49\"/>\n       <use x=\"63.623047\" xlink:href=\"#DejaVuSans-48\"/>\n       <use x=\"127.246094\" xlink:href=\"#DejaVuSans-46\"/>\n       <use x=\"159.033203\" xlink:href=\"#DejaVuSans-48\"/>\n      </g>\n     </g>\n    </g>\n    <g id=\"xtick_5\">\n     <g id=\"line2d_5\">\n      <g>\n       <use style=\"stroke:#000000;stroke-width:0.8;\" x=\"237.068877\" xlink:href=\"#m1a42af109f\" y=\"224.64\"/>\n      </g>\n     </g>\n     <g id=\"text_5\">\n      <!-- 12.5 -->\n      <g transform=\"translate(225.936064 239.238437)scale(0.1 -0.1)\">\n       <use xlink:href=\"#DejaVuSans-49\"/>\n       <use x=\"63.623047\" xlink:href=\"#DejaVuSans-50\"/>\n       <use x=\"127.246094\" xlink:href=\"#DejaVuSans-46\"/>\n       <use x=\"159.033203\" xlink:href=\"#DejaVuSans-53\"/>\n      </g>\n     </g>\n    </g>\n    <g id=\"xtick_6\">\n     <g id=\"line2d_6\">\n      <g>\n       <use style=\"stroke:#000000;stroke-width:0.8;\" x=\"282.211412\" xlink:href=\"#m1a42af109f\" y=\"224.64\"/>\n      </g>\n     </g>\n     <g id=\"text_6\">\n      <!-- 15.0 -->\n      <g transform=\"translate(271.0786 239.238437)scale(0.1 -0.1)\">\n       <use xlink:href=\"#DejaVuSans-49\"/>\n       <use x=\"63.623047\" xlink:href=\"#DejaVuSans-53\"/>\n       <use x=\"127.246094\" xlink:href=\"#DejaVuSans-46\"/>\n       <use x=\"159.033203\" xlink:href=\"#DejaVuSans-48\"/>\n      </g>\n     </g>\n    </g>\n    <g id=\"xtick_7\">\n     <g id=\"line2d_7\">\n      <g>\n       <use style=\"stroke:#000000;stroke-width:0.8;\" x=\"327.353948\" xlink:href=\"#m1a42af109f\" y=\"224.64\"/>\n      </g>\n     </g>\n     <g id=\"text_7\">\n      <!-- 17.5 -->\n      <g transform=\"translate(316.221135 239.238437)scale(0.1 -0.1)\">\n       <use xlink:href=\"#DejaVuSans-49\"/>\n       <use x=\"63.623047\" xlink:href=\"#DejaVuSans-55\"/>\n       <use x=\"127.246094\" xlink:href=\"#DejaVuSans-46\"/>\n       <use x=\"159.033203\" xlink:href=\"#DejaVuSans-53\"/>\n      </g>\n     </g>\n    </g>\n   </g>\n   <g id=\"matplotlib.axis_2\">\n    <g id=\"ytick_1\">\n     <g id=\"line2d_8\">\n      <defs>\n       <path d=\"M 0 0 \nL -3.5 0 \n\" id=\"mb81bbd6db2\" style=\"stroke:#000000;stroke-width:0.8;\"/>\n      </defs>\n      <g>\n       <use style=\"stroke:#000000;stroke-width:0.8;\" x=\"33.2875\" xlink:href=\"#mb81bbd6db2\" y=\"224.64\"/>\n      </g>\n     </g>\n     <g id=\"text_8\">\n      <!-- 0 -->\n      <g transform=\"translate(19.925 228.439219)scale(0.1 -0.1)\">\n       <use xlink:href=\"#DejaVuSans-48\"/>\n      </g>\n     </g>\n    </g>\n    <g id=\"ytick_2\">\n     <g id=\"line2d_9\">\n      <g>\n       <use style=\"stroke:#000000;stroke-width:0.8;\" x=\"33.2875\" xlink:href=\"#mb81bbd6db2\" y=\"179.226466\"/>\n      </g>\n     </g>\n     <g id=\"text_9\">\n      <!-- 50 -->\n      <g transform=\"translate(13.5625 183.025685)scale(0.1 -0.1)\">\n       <use xlink:href=\"#DejaVuSans-53\"/>\n       <use x=\"63.623047\" xlink:href=\"#DejaVuSans-48\"/>\n      </g>\n     </g>\n    </g>\n    <g id=\"ytick_3\">\n     <g id=\"line2d_10\">\n      <g>\n       <use style=\"stroke:#000000;stroke-width:0.8;\" x=\"33.2875\" xlink:href=\"#mb81bbd6db2\" y=\"133.812932\"/>\n      </g>\n     </g>\n     <g id=\"text_10\">\n      <!-- 100 -->\n      <g transform=\"translate(7.2 137.612151)scale(0.1 -0.1)\">\n       <use xlink:href=\"#DejaVuSans-49\"/>\n       <use x=\"63.623047\" xlink:href=\"#DejaVuSans-48\"/>\n       <use x=\"127.246094\" xlink:href=\"#DejaVuSans-48\"/>\n      </g>\n     </g>\n    </g>\n    <g id=\"ytick_4\">\n     <g id=\"line2d_11\">\n      <g>\n       <use style=\"stroke:#000000;stroke-width:0.8;\" x=\"33.2875\" xlink:href=\"#mb81bbd6db2\" y=\"88.399398\"/>\n      </g>\n     </g>\n     <g id=\"text_11\">\n      <!-- 150 -->\n      <g transform=\"translate(7.2 92.198617)scale(0.1 -0.1)\">\n       <use xlink:href=\"#DejaVuSans-49\"/>\n       <use x=\"63.623047\" xlink:href=\"#DejaVuSans-53\"/>\n       <use x=\"127.246094\" xlink:href=\"#DejaVuSans-48\"/>\n      </g>\n     </g>\n    </g>\n    <g id=\"ytick_5\">\n     <g id=\"line2d_12\">\n      <g>\n       <use style=\"stroke:#000000;stroke-width:0.8;\" x=\"33.2875\" xlink:href=\"#mb81bbd6db2\" y=\"42.985865\"/>\n      </g>\n     </g>\n     <g id=\"text_12\">\n      <!-- 200 -->\n      <g transform=\"translate(7.2 46.785083)scale(0.1 -0.1)\">\n       <use xlink:href=\"#DejaVuSans-50\"/>\n       <use x=\"63.623047\" xlink:href=\"#DejaVuSans-48\"/>\n       <use x=\"127.246094\" xlink:href=\"#DejaVuSans-48\"/>\n      </g>\n     </g>\n    </g>\n   </g>\n   <g id=\"patch_13\">\n    <path d=\"M 33.2875 224.64 \nL 33.2875 7.2 \n\" style=\"fill:none;stroke:#000000;stroke-linecap:square;stroke-linejoin:miter;stroke-width:0.8;\"/>\n   </g>\n   <g id=\"patch_14\">\n    <path d=\"M 368.0875 224.64 \nL 368.0875 7.2 \n\" style=\"fill:none;stroke:#000000;stroke-linecap:square;stroke-linejoin:miter;stroke-width:0.8;\"/>\n   </g>\n   <g id=\"patch_15\">\n    <path d=\"M 33.2875 224.64 \nL 368.0875 224.64 \n\" style=\"fill:none;stroke:#000000;stroke-linecap:square;stroke-linejoin:miter;stroke-width:0.8;\"/>\n   </g>\n   <g id=\"patch_16\">\n    <path d=\"M 33.2875 7.2 \nL 368.0875 7.2 \n\" style=\"fill:none;stroke:#000000;stroke-linecap:square;stroke-linejoin:miter;stroke-width:0.8;\"/>\n   </g>\n  </g>\n </g>\n <defs>\n  <clipPath id=\"pd8fac6c7f8\">\n   <rect height=\"217.44\" width=\"334.8\" x=\"33.2875\" y=\"7.2\"/>\n  </clipPath>\n </defs>\n</svg>\n",
      "image/png": "[encoded data removed]"
     },
     "metadata": {
      "needs_background": "light"
     }
    }
   ],
   "source": [
    "plt.hist(x, 10)"
   ]
  },
  {
   "cell_type": "code",
   "execution_count": 7,
   "metadata": {},
   "outputs": [
    {
     "output_type": "execute_result",
     "data": {
      "text/plain": "12.75351164796685"
     },
     "metadata": {},
     "execution_count": 7
    }
   ],
   "source": [
    "x[100]"
   ]
  },
  {
   "cell_type": "code",
   "execution_count": 8,
   "metadata": {},
   "outputs": [
    {
     "output_type": "execute_result",
     "data": {
      "text/plain": "2.7535116479668496"
     },
     "metadata": {},
     "execution_count": 8
    }
   ],
   "source": [
    "np.sqrt((10.0 - x[100])**2)"
   ]
  },
  {
   "cell_type": "code",
   "execution_count": 9,
   "metadata": {},
   "outputs": [],
   "source": [
    "i = 30"
   ]
  },
  {
   "cell_type": "code",
   "execution_count": 10,
   "metadata": {},
   "outputs": [
    {
     "output_type": "execute_result",
     "data": {
      "text/plain": "14.742516581650552"
     },
     "metadata": {},
     "execution_count": 10
    }
   ],
   "source": [
    "x[i]"
   ]
  },
  {
   "cell_type": "code",
   "execution_count": 11,
   "metadata": {},
   "outputs": [
    {
     "output_type": "execute_result",
     "data": {
      "text/plain": "4.742516581650552"
     },
     "metadata": {},
     "execution_count": 11
    }
   ],
   "source": [
    "np.sqrt((10.0 - x[i])**2)"
   ]
  },
  {
   "cell_type": "markdown",
   "metadata": {},
   "source": [
    "# Standard Deviation\n",
    "It is simply the average distance of all my data points from the mean.\n",
    "\n",
    "The distance of the ith point $x_i$ from the mean $\\bar x$ is -\n",
    "$$\n",
    "d_i = \\sqrt{(x_i - \\bar x)^2}\n",
    "$$\n",
    "\n",
    "The average of all such distances is then given as -\n",
    "$$\n",
    "\\frac1n \\sum_{i=1}^n d_i\n",
    "$$\n",
    "\n",
    "Combining both the expressions into a single expression we get -\n",
    "\n",
    "$$\n",
    "s.d = \\frac1n \\sum_{i=1}^n \\sqrt{(x_i - \\bar x)^2}\n",
    "$$"
   ]
  },
  {
   "cell_type": "markdown",
   "metadata": {},
   "source": [
    "# Assignment\n",
    "\n",
    "  1. Write a function to calculate the standard deviation.\n",
    "  2. Use this function to calculate the standard deviation of the $x$ dataset defined above.\n",
    "  3. Use this function to calculate the standard deviation of the $y$ dataset defined in the cell below.\n",
    "  4. Plot both the histograms on the same plot. See below on how to do this.\n",
    "  5. What are your observations on the standard deviations and the histogram shapes of both the datasets?\n",
    "  6. [Stretch] If we were to use your simple absolute value forumula for the distance $d_i$, how would you construct the average distance?\n",
    "  7. [Stretch] Using your modified forumula, calculate the average distances for both the $x$ and $y$ datasets.\n",
    "  8. [Stretch] How do these values differ from the standard deviation you calculated before?\n",
    "\n",
    "## How to draw multiple plots in a single figure?\n",
    "Just issue all the plt.method(data) calls in a single cell before executing that cell. E.g., to draw two scatter plots on the same figure I'd write both these statements -\n",
    "```python\n",
    "plt.scatter(x1, y1)\n",
    "plt.scatter(x2, y2)\n",
    "```\n",
    "in a single cell and then execute."
   ]
  },
  {
   "cell_type": "code",
   "execution_count": 12,
   "metadata": {},
   "outputs": [],
   "source": [
    "y = np.random.normal(loc=10, scale=15, size=1000)"
   ]
  },
  {
   "cell_type": "code",
   "execution_count": 13,
   "metadata": {},
   "outputs": [],
   "source": [
    "def standard_deviation(array):\n",
    "    sum = 0\n",
    "    for a in range(len(array)):\n",
    "        thingy = array[a - 1]\n",
    "        sum += thingy\n",
    "    meme = sum / len(array)\n",
    "    stoofs = np.zeros(len(array))\n",
    "    for a in range(len(array)):\n",
    "        thingy = meme - array[a]\n",
    "        thingy = thingy ** 2\n",
    "        thingy = np.sqrt(thingy)\n",
    "        stoofs[a] = thingy\n",
    "    some = 0\n",
    "    for a in range(len(stoofs)):\n",
    "        thingy = stoofs[a - 1]\n",
    "        some += thingy\n",
    "    standard = some / len(array)\n",
    "    print(standard)"
   ]
  },
  {
   "cell_type": "code",
   "execution_count": 14,
   "metadata": {},
   "outputs": [
    {
     "output_type": "stream",
     "name": "stdout",
     "text": "2.3680364856565093\n"
    }
   ],
   "source": [
    "standard_deviation(x)"
   ]
  },
  {
   "cell_type": "code",
   "execution_count": 15,
   "metadata": {},
   "outputs": [
    {
     "output_type": "execute_result",
     "data": {
      "text/plain": "array([ 8.687, 14.251,  9.293, 12.499, 11.941, 12.052,  6.936, 12.109,\n        4.155, 13.969, 10.234,  8.261, 11.392, 13.624,  9.757,  8.566,\n        7.593,  8.107, 16.055,  9.844,  8.223,  7.48 , 11.291, 11.978,\n        9.951, 11.853,  7.28 ,  7.789, 10.258, 12.772, 14.743,  9.927,\n       12.378,  9.452, 11.928,  4.299,  9.114,  9.169, 11.759,  6.505,\n        9.905,  7.261, 10.728, 11.308,  6.575,  7.769,  9.052,  8.604,\n       10.706,  8.139, 12.055,  7.758, 10.478,  9.668, 10.345,  8.11 ,\n        9.824,  3.069, 13.022,  6.814, 13.821, 14.426, 15.35 ,  8.659,\n        7.043, 10.691, 14.207, 10.928, 11.562, 10.944, 13.771,  7.786,\n        2.664,  9.273, 11.583, 10.258, 14.006,  8.252, 10.375, 14.678,\n       13.954, 10.774,  8.565,  8.253,  8.396, 11.148,  6.815,  9.143,\n        7.128, 12.602,  7.393, 10.759, 10.089, 11.078, 11.939,  9.505,\n       11.041, 11.596,  8.493,  9.162, 12.754,  5.732,  8.541, 15.48 ,\n        6.546,  6.164,  2.238, 13.046,  8.02 ,  7.401, 11.244,  9.054,\n       10.827, 16.644,  7.554,  7.715,  9.866,  9.407,  8.918, 15.756,\n       14.003, 10.298,  8.592, 10.638,  6.348, 11.798, 12.04 ,  9.372,\n        7.8  , 16.389, 14.635,  5.443, 10.588, 10.501, 14.168, 11.292,\n       13.058, 14.399, 10.034, 11.918, 13.115,  9.777,  5.777,  7.894,\n        8.267, 13.134, 10.817,  9.268, 10.208,  8.487, 10.554, 10.705,\n        6.688, 10.542, 10.397,  7.745, 13.026,  9.342, 11.165,  8.133,\n       10.574, 10.888,  9.263,  7.199,  7.503, 11.309, 13.598,  8.606,\n        7.669,  5.774,  9.358,  6.916,  4.109, 13.041,  9.473, 14.417,\n       10.897,  6.696, 13.04 ,  8.403, 13.225,  8.065,  7.22 , 11.754,\n       12.216, 14.962,  8.237, 10.553,  7.148,  9.135, 13.566, 14.198,\n        7.918, 10.744,  6.826, 10.949,  6.406,  5.549, 15.818, 12.169,\n        9.046,  5.298,  8.608,  9.826,  9.111,  8.794,  5.629, 11.274,\n        4.825, 10.106,  8.849, 13.12 , 13.618, 15.291,  6.943,  7.24 ,\n       10.849, 10.485,  7.638, 10.426, 11.79 ,  2.96 ,  8.777, 12.898,\n        4.77 ,  7.564,  9.342, 10.239, 11.009,  4.571,  8.193,  8.158,\n       10.738,  9.828,  7.985, 11.931, 12.488, 11.855,  8.175,  4.049,\n       13.443, 15.024, 11.451, 11.046,  4.578,  8.449, 13.641, 10.953,\n        9.801, 13.609,  3.982,  4.957, 12.535,  7.579,  9.337,  7.68 ,\n       15.909, 13.41 , 12.564,  9.87 ,  5.134,  8.018, 11.986, 11.417,\n        8.898,  5.801,  6.182, 12.346,  9.008, 14.551, 14.851, 10.492,\n        6.311, 12.033,  6.806,  8.398,  3.67 ,  8.558,  3.25 ,  8.402,\n        9.494, 13.125, 17.96 ,  8.95 , 11.726, 14.189, 10.016, 15.831,\n        7.938,  5.514, 14.977, 10.382, 12.765,  6.513, 10.04 , 11.335,\n        7.821,  9.626, 12.8  , 12.482, 12.169, 13.187, 10.915, 14.78 ,\n       10.125,  9.594, 13.344,  5.13 ,  6.952,  9.489,  5.683, 12.257,\n       16.293, 11.164,  2.685, 13.139,  2.996, 12.643, 13.326,  5.503,\n       10.193,  6.793, 10.387, 12.35 , 10.126, 12.662,  8.119,  7.972,\n       11.107,  6.486,  9.994, 11.14 ,  8.137,  7.714,  8.844, 10.008,\n       12.328, 13.751, 10.18 , 10.604, 12.367, 12.928,  9.187,  9.778,\n       12.833, 13.092,  7.443, 10.358, 10.558,  3.985,  9.438, 10.706,\n       11.147, 15.736, 11.935, 11.49 , 12.058, 11.485,  7.647, 11.957,\n       10.386,  6.234,  6.147,  9.347, 10.756,  5.839,  3.843, 12.49 ,\n       11.163, 16.089, 15.075,  8.918,  8.763,  7.396, 12.931,  9.084,\n       12.765, 12.789, 10.21 , 10.105, 11.371,  3.619,  8.491,  7.572,\n        4.406, 11.93 ,  8.153,  8.739, 12.728,  9.063, 15.448, 11.48 ,\n        9.77 , 12.452,  6.323,  8.126, 10.062, 13.174,  7.753,  8.097,\n        8.97 , 10.372,  5.719, 10.806, 15.217,  6.706,  7.256, 12.727,\n       13.197, 11.964, 11.168,  9.818, 13.953,  3.61 ,  6.973, 10.378,\n        5.952,  5.228,  5.246, 12.312,  4.718,  6.62 , 13.392, 11.755,\n        9.987,  8.676,  5.414,  9.255, 12.244,  9.72 ,  6.731, 10.728,\n        9.96 , 10.363,  8.2  , 16.665, 17.581,  9.45 , 12.006,  9.402,\n        3.243,  8.775, 10.97 ,  7.615, 15.637,  8.274,  9.624,  8.975,\n       11.241, 14.12 , 12.067, 12.605,  7.966,  6.587,  6.26 ,  9.264,\n        7.02 ,  8.501,  8.104,  9.086, 12.855, 13.204,  7.148,  8.949,\n       11.842, 16.173, 12.488, 10.014, 12.279, 11.291, 11.064,  9.243,\n        8.341,  8.176, 13.136,  5.59 , 12.116, 10.971,  6.742,  9.478,\n        5.009, 14.336,  5.402, 12.053,  5.892,  7.638,  7.972,  8.113,\n       13.065,  9.862,  7.02 ,  9.466, 10.218, 12.93 ,  9.951, 13.931,\n        8.93 ,  9.734,  2.518,  8.843, 12.375, 11.411,  8.288, 12.483,\n        8.539, 12.866, 10.39 ,  5.551,  9.192,  8.048, 12.235,  7.328,\n        7.973, 12.658, 14.242, 13.014, 18.138, 14.479,  8.4  , 13.914,\n        9.582, 10.6  ,  7.376, 11.161, 11.013,  7.915, 10.177, 10.855,\n        6.268,  9.058, 16.597, 10.134,  9.22 ,  7.354, 10.28 ,  9.098,\n        9.452,  7.811,  9.575,  6.531,  6.05 , 12.671, 14.424,  6.488,\n       11.596,  8.085,  9.162,  7.563,  7.255, 11.027,  8.441, 10.821,\n       14.425, 14.327, 15.658,  5.91 ,  9.505, 12.958,  8.849, 10.076,\n        8.434,  9.166, 18.913,  6.473,  7.57 , 10.067, 13.645,  7.246,\n        8.785, 14.709,  7.408, 12.061,  4.65 ,  7.583, 10.431, 12.28 ,\n        4.477, 13.114, 10.571, 15.221, 17.398, 15.937,  3.828,  5.951,\n        8.888,  9.302, 14.369, 12.828, 10.034, 11.364,  3.254,  8.688,\n        4.721,  5.979,  9.459,  7.289,  6.871,  8.765, 13.45 ,  7.993,\n        6.551,  8.789,  5.878, 14.437, 10.422,  9.218, 13.912, 11.432,\n       13.765,  8.928,  8.779,  7.052, 15.428,  5.954,  9.11 ,  3.569,\n       11.527,  8.798,  4.134, 16.549, 14.701,  9.696, 11.614,  7.175,\n       10.345, 11.855,  7.102, 11.256, 11.95 , 12.625,  8.792,  7.3  ,\n       12.522,  6.314,  8.049, 10.895, 10.353,  9.467,  8.089,  7.769,\n       13.8  , 10.989, 10.19 , 10.577,  7.051,  8.55 ,  6.158, 12.218,\n        4.608, 14.199, 15.172, 10.66 , 14.539, 10.867,  9.114,  6.354,\n        8.251, 10.832, 10.037,  4.831,  9.267,  6.447, 11.633,  4.447,\n       12.03 , 11.301,  9.4  , 14.245, 10.286, 10.258,  7.898, 13.519,\n       12.838,  5.361,  4.582, 10.114,  9.81 , 11.225,  9.456,  8.331,\n        7.207, 11.582, 15.344, 16.105,  7.94 ,  9.034, 12.59 , 13.579,\n       14.011, 10.013, 12.448, 13.708,  9.18 ,  9.422,  9.607,  7.225,\n        7.682, 11.265, 11.613,  9.63 ,  4.446, 12.025,  8.007, 10.453,\n       10.284,  8.611, 10.642, 14.288, 10.013,  8.187, 12.971,  9.822,\n        6.852, 10.809, 11.85 ,  9.336, 10.06 ,  5.338,  7.98 ,  4.906,\n       10.145,  9.618, 13.371, 11.088,  9.224, 14.434,  6.907,  7.394,\n       10.227,  9.276,  3.449, 14.187,  9.243, 10.497, 15.442, 13.869,\n       10.251,  6.472,  7.808,  8.285, 11.21 , 13.296, 11.926, 14.644,\n       11.907,  8.913,  7.943, 10.366,  8.956, 10.289, 10.526,  7.501,\n       11.999,  6.925, 14.247, 12.393, 10.615,  8.427,  4.954,  6.159,\n       11.699, 13.667,  6.562,  6.773,  7.321,  4.517, 11.087, 13.113,\n        9.45 ,  8.795, 13.727,  7.911,  9.567,  8.264, 11.748, 10.215,\n       11.728,  4.909,  9.366,  7.451,  9.464,  3.685, 11.518, 11.508,\n        7.065, 10.204,  5.928,  9.6  , 12.246,  7.188, 10.435,  7.611,\n       10.93 , 12.769, 10.746,  8.293, 17.306, 10.672, 11.207, 13.261,\n       13.041,  6.157, 13.47 ,  5.545, 11.955, 13.22 , 16.304, 11.433,\n       12.985,  2.297, 11.578,  6.279,  8.295, 13.245,  5.521, 14.573,\n        9.906, 11.053, 12.636,  8.047,  7.367, 13.682, 15.013,  9.379,\n       12.326,  4.967, 11.56 , 11.114,  9.677, 14.083,  5.375,  8.112,\n        9.651, 11.601,  7.758, 10.607, 11.833,  9.25 ,  9.776,  6.712,\n        4.543, 13.406,  7.489, 10.461,  6.2  ,  9.012, 11.13 ,  9.438,\n        9.22 , 11.744,  7.882,  9.479, 10.161,  9.445,  6.428,  9.662,\n       13.916, 11.779,  9.131,  9.233,  9.656,  8.315,  5.957,  8.745,\n        9.759, 11.469, 14.005,  5.41 ,  7.064,  9.172,  8.34 , 12.609,\n       12.702,  5.727, 11.258, 12.901, 12.394,  9.386,  8.792, 14.203,\n       10.314,  9.863,  8.387,  7.792,  7.908, 10.692,  9.454, 12.672,\n       13.194, 11.312, 12.788,  9.293,  8.811, 11.91 ,  8.055, 13.223,\n       13.347, 10.076, 10.914,  7.11 ,  8.892, 12.49 , 10.674,  8.309,\n       11.975,  7.653,  8.307,  6.075, 12.537, 12.469,  7.76 ,  9.463,\n        7.203, 12.082,  4.31 , 13.761,  7.708, 15.491,  6.999, 11.062,\n       11.653, 11.994, 15.766,  6.097,  9.29 ,  7.13 , 11.403, 15.538,\n       11.53 ,  9.796, 14.3  , 10.326, 10.737,  9.257, 14.039,  4.891,\n        9.63 ,  7.611, 12.088, 10.783, 13.173,  7.062, 12.424, 10.367,\n        9.781, 12.361, 12.11 ,  9.307,  9.327,  6.464,  9.782, 12.67 ,\n       10.003,  7.639, 10.548,  6.213, 18.168, 14.234, 12.768,  5.205,\n       10.761,  9.051,  9.412,  6.569, 12.104, 12.364, 11.889,  5.724,\n       14.538, 12.394,  7.567,  9.764, 12.967, 14.51 ,  2.057,  9.238,\n       10.886,  8.577,  3.612, 12.008,  9.609, 12.744,  8.353,  8.875,\n        7.37 , 12.446,  8.92 ,  5.24 , 11.205, 11.207, 15.262,  9.253,\n        4.48 , 10.248,  7.884,  7.988,  7.799, 10.26 , 15.639,  7.119])"
     },
     "metadata": {},
     "execution_count": 15
    }
   ],
   "source": [
    "x"
   ]
  },
  {
   "cell_type": "code",
   "execution_count": 16,
   "metadata": {},
   "outputs": [],
   "source": [
    "x = np.random.normal(loc=10, scale=3, size=1000)"
   ]
  },
  {
   "cell_type": "code",
   "execution_count": 17,
   "metadata": {},
   "outputs": [
    {
     "output_type": "stream",
     "name": "stdout",
     "text": "2.4253060014493903\n"
    }
   ],
   "source": [
    "standard_deviation(x)"
   ]
  },
  {
   "cell_type": "code",
   "execution_count": 18,
   "metadata": {},
   "outputs": [
    {
     "output_type": "stream",
     "name": "stdout",
     "text": "11.821128844886005\n"
    }
   ],
   "source": [
    "standard_deviation(y)"
   ]
  },
  {
   "cell_type": "code",
   "execution_count": 19,
   "metadata": {},
   "outputs": [
    {
     "output_type": "execute_result",
     "data": {
      "text/plain": "array([12.746,  9.615,  9.165,  9.382,  9.249])"
     },
     "metadata": {},
     "execution_count": 19
    }
   ],
   "source": [
    "x[:5]"
   ]
  },
  {
   "cell_type": "code",
   "execution_count": 20,
   "metadata": {},
   "outputs": [
    {
     "output_type": "execute_result",
     "data": {
      "text/plain": "array([24.142, 21.376, 25.947, -0.184,  8.831])"
     },
     "metadata": {},
     "execution_count": 20
    }
   ],
   "source": [
    "y[:5]"
   ]
  },
  {
   "cell_type": "code",
   "execution_count": 21,
   "metadata": {},
   "outputs": [
    {
     "output_type": "execute_result",
     "data": {
      "text/plain": "(array([  5.,  19.,  61., 161., 222., 229., 175.,  81.,  40.,   7.]),\n array([ 0.456,  2.325,  4.193,  6.062,  7.93 ,  9.799, 11.667, 13.536,\n        15.404, 17.273, 19.141]),\n <a list of 10 Patch objects>)"
     },
     "metadata": {},
     "execution_count": 21
    },
    {
     "output_type": "display_data",
     "data": {
      "text/plain": "<Figure size 432x288 with 1 Axes>",
      "image/svg+xml": "<?xml version=\"1.0\" encoding=\"utf-8\" standalone=\"no\"?>\n<!DOCTYPE svg PUBLIC \"-//W3C//DTD SVG 1.1//EN\"\n  \"http://www.w3.org/Graphics/SVG/1.1/DTD/svg11.dtd\">\n<!-- Created with matplotlib (https://matplotlib.org/) -->\n<svg height=\"248.518125pt\" version=\"1.1\" viewBox=\"0 0 375.2875 248.518125\" width=\"375.2875pt\" xmlns=\"http://www.w3.org/2000/svg\" xmlns:xlink=\"http://www.w3.org/1999/xlink\">\n <defs>\n  <style type=\"text/css\">\n*{stroke-linecap:butt;stroke-linejoin:round;}\n  </style>\n </defs>\n <g id=\"figure_1\">\n  <g id=\"patch_1\">\n   <path d=\"M 0 248.518125 \nL 375.2875 248.518125 \nL 375.2875 0 \nL 0 0 \nz\n\" style=\"fill:none;\"/>\n  </g>\n  <g id=\"axes_1\">\n   <g id=\"patch_2\">\n    <path d=\"M 33.2875 224.64 \nL 368.0875 224.64 \nL 368.0875 7.2 \nL 33.2875 7.2 \nz\n\" style=\"fill:#ffffff;\"/>\n   </g>\n   <g id=\"patch_3\">\n    <path clip-path=\"url(#pfd8b8b2dfd)\" d=\"M 48.505682 224.64 \nL 78.942045 224.64 \nL 78.942045 221.022782 \nL 48.505682 221.022782 \nz\n\" style=\"fill:#1f77b4;\"/>\n   </g>\n   <g id=\"patch_4\">\n    <path clip-path=\"url(#pfd8b8b2dfd)\" d=\"M 78.942045 224.64 \nL 109.378409 224.64 \nL 109.378409 197.510867 \nL 78.942045 197.510867 \nz\n\" style=\"fill:#1f77b4;\"/>\n   </g>\n   <g id=\"patch_5\">\n    <path clip-path=\"url(#pfd8b8b2dfd)\" d=\"M 109.378409 224.64 \nL 139.814773 224.64 \nL 139.814773 161.33869 \nL 109.378409 161.33869 \nz\n\" style=\"fill:#1f77b4;\"/>\n   </g>\n   <g id=\"patch_6\">\n    <path clip-path=\"url(#pfd8b8b2dfd)\" d=\"M 139.814773 224.64 \nL 170.251136 224.64 \nL 170.251136 82.664205 \nL 139.814773 82.664205 \nz\n\" style=\"fill:#1f77b4;\"/>\n   </g>\n   <g id=\"patch_7\">\n    <path clip-path=\"url(#pfd8b8b2dfd)\" d=\"M 170.251136 224.64 \nL 200.6875 224.64 \nL 200.6875 40.161896 \nL 170.251136 40.161896 \nz\n\" style=\"fill:#1f77b4;\"/>\n   </g>\n   <g id=\"patch_8\">\n    <path clip-path=\"url(#pfd8b8b2dfd)\" d=\"M 200.6875 224.64 \nL 231.123864 224.64 \nL 231.123864 25.693026 \nL 200.6875 25.693026 \nz\n\" style=\"fill:#1f77b4;\"/>\n   </g>\n   <g id=\"patch_9\">\n    <path clip-path=\"url(#pfd8b8b2dfd)\" d=\"M 231.123864 224.64 \nL 261.560227 224.64 \nL 261.560227 68.195334 \nL 231.123864 68.195334 \nz\n\" style=\"fill:#1f77b4;\"/>\n   </g>\n   <g id=\"patch_10\">\n    <path clip-path=\"url(#pfd8b8b2dfd)\" d=\"M 261.560227 224.64 \nL 291.996591 224.64 \nL 291.996591 137.826775 \nL 261.560227 137.826775 \nz\n\" style=\"fill:#1f77b4;\"/>\n   </g>\n   <g id=\"patch_11\">\n    <path clip-path=\"url(#pfd8b8b2dfd)\" d=\"M 291.996591 224.64 \nL 322.432955 224.64 \nL 322.432955 188.467823 \nL 291.996591 188.467823 \nz\n\" style=\"fill:#1f77b4;\"/>\n   </g>\n   <g id=\"patch_12\">\n    <path clip-path=\"url(#pfd8b8b2dfd)\" d=\"M 322.432955 224.64 \nL 352.869318 224.64 \nL 352.869318 219.214173 \nL 322.432955 219.214173 \nz\n\" style=\"fill:#1f77b4;\"/>\n   </g>\n   <g id=\"patch_13\">\n    <path clip-path=\"url(#pfd8b8b2dfd)\" d=\"M 170.849484 224.64 \nL 177.408411 224.64 \nL 177.408411 220.118478 \nL 170.849484 220.118478 \nz\n\" style=\"fill:#ff7f0e;\"/>\n   </g>\n   <g id=\"patch_14\">\n    <path clip-path=\"url(#pfd8b8b2dfd)\" d=\"M 177.408411 224.64 \nL 183.967337 224.64 \nL 183.967337 207.458216 \nL 177.408411 207.458216 \nz\n\" style=\"fill:#ff7f0e;\"/>\n   </g>\n   <g id=\"patch_15\">\n    <path clip-path=\"url(#pfd8b8b2dfd)\" d=\"M 183.967337 224.64 \nL 190.526263 224.64 \nL 190.526263 169.47743 \nL 183.967337 169.47743 \nz\n\" style=\"fill:#ff7f0e;\"/>\n   </g>\n   <g id=\"patch_16\">\n    <path clip-path=\"url(#pfd8b8b2dfd)\" d=\"M 190.526263 224.64 \nL 197.08519 224.64 \nL 197.08519 79.046987 \nL 190.526263 79.046987 \nz\n\" style=\"fill:#ff7f0e;\"/>\n   </g>\n   <g id=\"patch_17\">\n    <path clip-path=\"url(#pfd8b8b2dfd)\" d=\"M 197.08519 224.64 \nL 203.644116 224.64 \nL 203.644116 23.884417 \nL 197.08519 23.884417 \nz\n\" style=\"fill:#ff7f0e;\"/>\n   </g>\n   <g id=\"patch_18\">\n    <path clip-path=\"url(#pfd8b8b2dfd)\" d=\"M 203.644116 224.64 \nL 210.203043 224.64 \nL 210.203043 17.554286 \nL 203.644116 17.554286 \nz\n\" style=\"fill:#ff7f0e;\"/>\n   </g>\n   <g id=\"patch_19\">\n    <path clip-path=\"url(#pfd8b8b2dfd)\" d=\"M 210.203043 224.64 \nL 216.761969 224.64 \nL 216.761969 66.386725 \nL 210.203043 66.386725 \nz\n\" style=\"fill:#ff7f0e;\"/>\n   </g>\n   <g id=\"patch_20\">\n    <path clip-path=\"url(#pfd8b8b2dfd)\" d=\"M 216.761969 224.64 \nL 223.320896 224.64 \nL 223.320896 151.391341 \nL 216.761969 151.391341 \nz\n\" style=\"fill:#ff7f0e;\"/>\n   </g>\n   <g id=\"patch_21\">\n    <path clip-path=\"url(#pfd8b8b2dfd)\" d=\"M 223.320896 224.64 \nL 229.879822 224.64 \nL 229.879822 188.467823 \nL 223.320896 188.467823 \nz\n\" style=\"fill:#ff7f0e;\"/>\n   </g>\n   <g id=\"patch_22\">\n    <path clip-path=\"url(#pfd8b8b2dfd)\" d=\"M 229.879822 224.64 \nL 236.438749 224.64 \nL 236.438749 218.309869 \nL 229.879822 218.309869 \nz\n\" style=\"fill:#ff7f0e;\"/>\n   </g>\n   <g id=\"matplotlib.axis_1\">\n    <g id=\"xtick_1\">\n     <g id=\"line2d_1\">\n      <defs>\n       <path d=\"M 0 0 \nL 0 3.5 \n\" id=\"m38946918bf\" style=\"stroke:#000000;stroke-width:0.8;\"/>\n      </defs>\n      <g>\n       <use style=\"stroke:#000000;stroke-width:0.8;\" x=\"99.041342\" xlink:href=\"#m38946918bf\" y=\"224.64\"/>\n      </g>\n     </g>\n     <g id=\"text_1\">\n      <!-- −20 -->\n      <defs>\n       <path d=\"M 10.59375 35.5 \nL 73.1875 35.5 \nL 73.1875 27.203125 \nL 10.59375 27.203125 \nz\n\" id=\"DejaVuSans-8722\"/>\n       <path d=\"M 19.1875 8.296875 \nL 53.609375 8.296875 \nL 53.609375 0 \nL 7.328125 0 \nL 7.328125 8.296875 \nQ 12.9375 14.109375 22.625 23.890625 \nQ 32.328125 33.6875 34.8125 36.53125 \nQ 39.546875 41.84375 41.421875 45.53125 \nQ 43.3125 49.21875 43.3125 52.78125 \nQ 43.3125 58.59375 39.234375 62.25 \nQ 35.15625 65.921875 28.609375 65.921875 \nQ 23.96875 65.921875 18.8125 64.3125 \nQ 13.671875 62.703125 7.8125 59.421875 \nL 7.8125 69.390625 \nQ 13.765625 71.78125 18.9375 73 \nQ 24.125 74.21875 28.421875 74.21875 \nQ 39.75 74.21875 46.484375 68.546875 \nQ 53.21875 62.890625 53.21875 53.421875 \nQ 53.21875 48.921875 51.53125 44.890625 \nQ 49.859375 40.875 45.40625 35.40625 \nQ 44.1875 33.984375 37.640625 27.21875 \nQ 31.109375 20.453125 19.1875 8.296875 \nz\n\" id=\"DejaVuSans-50\"/>\n       <path d=\"M 31.78125 66.40625 \nQ 24.171875 66.40625 20.328125 58.90625 \nQ 16.5 51.421875 16.5 36.375 \nQ 16.5 21.390625 20.328125 13.890625 \nQ 24.171875 6.390625 31.78125 6.390625 \nQ 39.453125 6.390625 43.28125 13.890625 \nQ 47.125 21.390625 47.125 36.375 \nQ 47.125 51.421875 43.28125 58.90625 \nQ 39.453125 66.40625 31.78125 66.40625 \nz\nM 31.78125 74.21875 \nQ 44.046875 74.21875 50.515625 64.515625 \nQ 56.984375 54.828125 56.984375 36.375 \nQ 56.984375 17.96875 50.515625 8.265625 \nQ 44.046875 -1.421875 31.78125 -1.421875 \nQ 19.53125 -1.421875 13.0625 8.265625 \nQ 6.59375 17.96875 6.59375 36.375 \nQ 6.59375 54.828125 13.0625 64.515625 \nQ 19.53125 74.21875 31.78125 74.21875 \nz\n\" id=\"DejaVuSans-48\"/>\n      </defs>\n      <g transform=\"translate(88.488998 239.238438)scale(0.1 -0.1)\">\n       <use xlink:href=\"#DejaVuSans-8722\"/>\n       <use x=\"83.789062\" xlink:href=\"#DejaVuSans-50\"/>\n       <use x=\"147.412109\" xlink:href=\"#DejaVuSans-48\"/>\n      </g>\n     </g>\n    </g>\n    <g id=\"xtick_2\">\n     <g id=\"line2d_2\">\n      <g>\n       <use style=\"stroke:#000000;stroke-width:0.8;\" x=\"169.247605\" xlink:href=\"#m38946918bf\" y=\"224.64\"/>\n      </g>\n     </g>\n     <g id=\"text_2\">\n      <!-- 0 -->\n      <g transform=\"translate(166.066355 239.238438)scale(0.1 -0.1)\">\n       <use xlink:href=\"#DejaVuSans-48\"/>\n      </g>\n     </g>\n    </g>\n    <g id=\"xtick_3\">\n     <g id=\"line2d_3\">\n      <g>\n       <use style=\"stroke:#000000;stroke-width:0.8;\" x=\"239.453869\" xlink:href=\"#m38946918bf\" y=\"224.64\"/>\n      </g>\n     </g>\n     <g id=\"text_3\">\n      <!-- 20 -->\n      <g transform=\"translate(233.091369 239.238438)scale(0.1 -0.1)\">\n       <use xlink:href=\"#DejaVuSans-50\"/>\n       <use x=\"63.623047\" xlink:href=\"#DejaVuSans-48\"/>\n      </g>\n     </g>\n    </g>\n    <g id=\"xtick_4\">\n     <g id=\"line2d_4\">\n      <g>\n       <use style=\"stroke:#000000;stroke-width:0.8;\" x=\"309.660132\" xlink:href=\"#m38946918bf\" y=\"224.64\"/>\n      </g>\n     </g>\n     <g id=\"text_4\">\n      <!-- 40 -->\n      <defs>\n       <path d=\"M 37.796875 64.3125 \nL 12.890625 25.390625 \nL 37.796875 25.390625 \nz\nM 35.203125 72.90625 \nL 47.609375 72.90625 \nL 47.609375 25.390625 \nL 58.015625 25.390625 \nL 58.015625 17.1875 \nL 47.609375 17.1875 \nL 47.609375 0 \nL 37.796875 0 \nL 37.796875 17.1875 \nL 4.890625 17.1875 \nL 4.890625 26.703125 \nz\n\" id=\"DejaVuSans-52\"/>\n      </defs>\n      <g transform=\"translate(303.297632 239.238438)scale(0.1 -0.1)\">\n       <use xlink:href=\"#DejaVuSans-52\"/>\n       <use x=\"63.623047\" xlink:href=\"#DejaVuSans-48\"/>\n      </g>\n     </g>\n    </g>\n   </g>\n   <g id=\"matplotlib.axis_2\">\n    <g id=\"ytick_1\">\n     <g id=\"line2d_5\">\n      <defs>\n       <path d=\"M 0 0 \nL -3.5 0 \n\" id=\"m47c15c12cc\" style=\"stroke:#000000;stroke-width:0.8;\"/>\n      </defs>\n      <g>\n       <use style=\"stroke:#000000;stroke-width:0.8;\" x=\"33.2875\" xlink:href=\"#m47c15c12cc\" y=\"224.64\"/>\n      </g>\n     </g>\n     <g id=\"text_5\">\n      <!-- 0 -->\n      <g transform=\"translate(19.925 228.439219)scale(0.1 -0.1)\">\n       <use xlink:href=\"#DejaVuSans-48\"/>\n      </g>\n     </g>\n    </g>\n    <g id=\"ytick_2\">\n     <g id=\"line2d_6\">\n      <g>\n       <use style=\"stroke:#000000;stroke-width:0.8;\" x=\"33.2875\" xlink:href=\"#m47c15c12cc\" y=\"179.424779\"/>\n      </g>\n     </g>\n     <g id=\"text_6\">\n      <!-- 50 -->\n      <defs>\n       <path d=\"M 10.796875 72.90625 \nL 49.515625 72.90625 \nL 49.515625 64.59375 \nL 19.828125 64.59375 \nL 19.828125 46.734375 \nQ 21.96875 47.46875 24.109375 47.828125 \nQ 26.265625 48.1875 28.421875 48.1875 \nQ 40.625 48.1875 47.75 41.5 \nQ 54.890625 34.8125 54.890625 23.390625 \nQ 54.890625 11.625 47.5625 5.09375 \nQ 40.234375 -1.421875 26.90625 -1.421875 \nQ 22.3125 -1.421875 17.546875 -0.640625 \nQ 12.796875 0.140625 7.71875 1.703125 \nL 7.71875 11.625 \nQ 12.109375 9.234375 16.796875 8.0625 \nQ 21.484375 6.890625 26.703125 6.890625 \nQ 35.15625 6.890625 40.078125 11.328125 \nQ 45.015625 15.765625 45.015625 23.390625 \nQ 45.015625 31 40.078125 35.4375 \nQ 35.15625 39.890625 26.703125 39.890625 \nQ 22.75 39.890625 18.8125 39.015625 \nQ 14.890625 38.140625 10.796875 36.28125 \nz\n\" id=\"DejaVuSans-53\"/>\n      </defs>\n      <g transform=\"translate(13.5625 183.223997)scale(0.1 -0.1)\">\n       <use xlink:href=\"#DejaVuSans-53\"/>\n       <use x=\"63.623047\" xlink:href=\"#DejaVuSans-48\"/>\n      </g>\n     </g>\n    </g>\n    <g id=\"ytick_3\">\n     <g id=\"line2d_7\">\n      <g>\n       <use style=\"stroke:#000000;stroke-width:0.8;\" x=\"33.2875\" xlink:href=\"#m47c15c12cc\" y=\"134.209557\"/>\n      </g>\n     </g>\n     <g id=\"text_7\">\n      <!-- 100 -->\n      <defs>\n       <path d=\"M 12.40625 8.296875 \nL 28.515625 8.296875 \nL 28.515625 63.921875 \nL 10.984375 60.40625 \nL 10.984375 69.390625 \nL 28.421875 72.90625 \nL 38.28125 72.90625 \nL 38.28125 8.296875 \nL 54.390625 8.296875 \nL 54.390625 0 \nL 12.40625 0 \nz\n\" id=\"DejaVuSans-49\"/>\n      </defs>\n      <g transform=\"translate(7.2 138.008776)scale(0.1 -0.1)\">\n       <use xlink:href=\"#DejaVuSans-49\"/>\n       <use x=\"63.623047\" xlink:href=\"#DejaVuSans-48\"/>\n       <use x=\"127.246094\" xlink:href=\"#DejaVuSans-48\"/>\n      </g>\n     </g>\n    </g>\n    <g id=\"ytick_4\">\n     <g id=\"line2d_8\">\n      <g>\n       <use style=\"stroke:#000000;stroke-width:0.8;\" x=\"33.2875\" xlink:href=\"#m47c15c12cc\" y=\"88.994336\"/>\n      </g>\n     </g>\n     <g id=\"text_8\">\n      <!-- 150 -->\n      <g transform=\"translate(7.2 92.793554)scale(0.1 -0.1)\">\n       <use xlink:href=\"#DejaVuSans-49\"/>\n       <use x=\"63.623047\" xlink:href=\"#DejaVuSans-53\"/>\n       <use x=\"127.246094\" xlink:href=\"#DejaVuSans-48\"/>\n      </g>\n     </g>\n    </g>\n    <g id=\"ytick_5\">\n     <g id=\"line2d_9\">\n      <g>\n       <use style=\"stroke:#000000;stroke-width:0.8;\" x=\"33.2875\" xlink:href=\"#m47c15c12cc\" y=\"43.779114\"/>\n      </g>\n     </g>\n     <g id=\"text_9\">\n      <!-- 200 -->\n      <g transform=\"translate(7.2 47.578333)scale(0.1 -0.1)\">\n       <use xlink:href=\"#DejaVuSans-50\"/>\n       <use x=\"63.623047\" xlink:href=\"#DejaVuSans-48\"/>\n       <use x=\"127.246094\" xlink:href=\"#DejaVuSans-48\"/>\n      </g>\n     </g>\n    </g>\n   </g>\n   <g id=\"patch_23\">\n    <path d=\"M 33.2875 224.64 \nL 33.2875 7.2 \n\" style=\"fill:none;stroke:#000000;stroke-linecap:square;stroke-linejoin:miter;stroke-width:0.8;\"/>\n   </g>\n   <g id=\"patch_24\">\n    <path d=\"M 368.0875 224.64 \nL 368.0875 7.2 \n\" style=\"fill:none;stroke:#000000;stroke-linecap:square;stroke-linejoin:miter;stroke-width:0.8;\"/>\n   </g>\n   <g id=\"patch_25\">\n    <path d=\"M 33.2875 224.64 \nL 368.0875 224.64 \n\" style=\"fill:none;stroke:#000000;stroke-linecap:square;stroke-linejoin:miter;stroke-width:0.8;\"/>\n   </g>\n   <g id=\"patch_26\">\n    <path d=\"M 33.2875 7.2 \nL 368.0875 7.2 \n\" style=\"fill:none;stroke:#000000;stroke-linecap:square;stroke-linejoin:miter;stroke-width:0.8;\"/>\n   </g>\n  </g>\n </g>\n <defs>\n  <clipPath id=\"pfd8b8b2dfd\">\n   <rect height=\"217.44\" width=\"334.8\" x=\"33.2875\" y=\"7.2\"/>\n  </clipPath>\n </defs>\n</svg>\n",
      "image/png": "[encoded data removed]"
     },
     "metadata": {
      "needs_background": "light"
     }
    }
   ],
   "source": [
    "plt.hist(y, 10)\n",
    "plt.hist(x, 10)"
   ]
  },
  {
   "cell_type": "markdown",
   "metadata": {},
   "source": [
    "The standard deviations were both relatively low, and the histograms both had a up-then-down type shape."
   ]
  },
  {
   "cell_type": "code",
   "execution_count": 22,
   "metadata": {},
   "outputs": [
    {
     "output_type": "stream",
     "name": "stdout",
     "text": "2.4253060014493903\n11.821128844886005\n"
    }
   ],
   "source": [
    "def absolute(array):\n",
    "    sum = 0\n",
    "    for a in range(len(array)):\n",
    "        thingy = array[a - 1]\n",
    "        sum += thingy\n",
    "    meme = sum / len(array)\n",
    "    stoofs = np.zeros(len(array))\n",
    "    for a in range(len(array)):\n",
    "        thingy = meme - array[a]\n",
    "        stoofs[a] = abs(thingy)\n",
    "    some = 0\n",
    "    for a in range(len(stoofs)):\n",
    "        thingy = stoofs[a - 1]\n",
    "        some += thingy\n",
    "    standard = some / len(array)\n",
    "    print(standard)\n",
    "absolute(x)\n",
    "absolute(y)"
   ]
  },
  {
   "cell_type": "markdown",
   "metadata": {},
   "source": [
    "The new distances are about the same as the old ones, if you round up and down a bit."
   ]
  }
 ],
 "metadata": {
  "language_info": {
   "codemirror_mode": {
    "name": "ipython",
    "version": 3
   },
   "file_extension": ".py",
   "mimetype": "text/x-python",
   "name": "python",
   "nbconvert_exporter": "python",
   "pygments_lexer": "ipython3",
   "version": "3.7.4-final"
  },
  "orig_nbformat": 2,
  "kernelspec": {
   "name": "python37464bitb8013970b41d42649bb995b731aad042",
   "display_name": "Python 3.7.4 64-bit"
  }
 },
 "nbformat": 4,
 "nbformat_minor": 2
}