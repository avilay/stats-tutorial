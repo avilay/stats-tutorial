{
 "cells": [
  {
   "cell_type": "code",
   "execution_count": null,
   "metadata": {},
   "outputs": [],
   "source": [
    "import numpy as np\n",
    "import matplotlib.pyplot as plt"
   ]
  },
  {
   "cell_type": "code",
   "execution_count": null,
   "metadata": {},
   "outputs": [],
   "source": [
    "%matplotlib inline"
   ]
  },
  {
   "cell_type": "code",
   "execution_count": null,
   "metadata": {},
   "outputs": [],
   "source": [
    "cotinine_levels = np.array([1, 35, 130, 123, 0, 112, 234, 167, 131, 477, 164, 250, 173, 289, 198, 245, 265, 227, 17, 48, 210, 103, 253, 86, 44, 222, 87, 284, 277, 149, 121, 1, 32, 313, 266, 208, 3, 491, 290, 173])\n",
    "cotinine_levels.shape"
   ]
  },
  {
   "cell_type": "code",
   "execution_count": null,
   "metadata": {},
   "outputs": [],
   "source": [
    "np.sort(cotinine_levels)"
   ]
  },
  {
   "cell_type": "code",
   "execution_count": null,
   "metadata": {},
   "outputs": [],
   "source": [
    "plt.hist(cotinine_levels, bins=7)"
   ]
  },
  {
   "cell_type": "code",
   "execution_count": null,
   "metadata": {},
   "outputs": [],
   "source": [
    "bins = [\n",
    "    (0, 99),\n",
    "    (100, 199),\n",
    "    (200, 299),\n",
    "    (300, 399),\n",
    "    (400, 499)\n",
    "]"
   ]
  },
  {
   "cell_type": "code",
   "execution_count": null,
   "metadata": {},
   "outputs": [],
   "source": [
    "counts = [0] * 5\n",
    "counts"
   ]
  },
  {
   "cell_type": "code",
   "execution_count": null,
   "metadata": {},
   "outputs": [],
   "source": [
    "for cl in cotinine_levels:\n",
    "    if 0 <= cl <= 99:\n",
    "        counts[0] += 1\n",
    "    elif 100 <= cl <= 199:\n",
    "        counts[1] += 1\n",
    "    elif 200 <= cl <= 299:\n",
    "        counts[2] += 1\n",
    "    elif 300 <= cl <= 399:\n",
    "        counts[3] += 1\n",
    "    elif 400 <= cl <= 499:\n",
    "        counts[4] += 1"
   ]
  },
  {
   "cell_type": "code",
   "execution_count": null,
   "metadata": {},
   "outputs": [],
   "source": [
    "counts"
   ]
  },
  {
   "cell_type": "code",
   "execution_count": null,
   "metadata": {},
   "outputs": [],
   "source": [
    "for (lower, upper), count in zip(bins, counts):\n",
    "    print(f\"{lower}-{upper}\\t{count}\")"
   ]
  },
  {
   "cell_type": "code",
   "execution_count": null,
   "metadata": {},
   "outputs": [],
   "source": [
    "arr1 = [(\"Positive\", \"Negative\"), (1, -1), (2, -2), (3, -3), (4, -4)]\n",
    "arr2 = [\"x10\", 10, 20, 30, 40]\n",
    "for (posx, negx), y in zip(arr1, arr2):\n",
    "    print(posx, negx, y)"
   ]
  },
  {
   "cell_type": "markdown",
   "metadata": {},
   "source": [
    "# Assignment 5/11\n",
    "## Main Assignment\n",
    "\n",
    "  * Define the terms **Class Boundaries**, **Class Limits**, and **Class Width**.\n",
    "  * What is the difference between the term *class* and the term *bin* the way we have used above?\n",
    "  * Create a dataset with 1000 elements, with each element being between 50 and 5000. Then print a frequency distribution table. Decide upon the class boundaries, limits, and width yourself. Mention what you chose for each and why.\n",
    "\n",
    "## Stretch Assignment\n",
    "In the for-loop, instead of hard-coding the class limits in the if-condition, use the `bins` array to check which bin an element belongs to."
   ]
  },
  {
   "cell_type": "markdown",
   "metadata": {},
   "source": []
  },
  {
   "cell_type": "code",
   "execution_count": null,
   "metadata": {},
   "outputs": [],
   "source": [
    "print(\"Class boundaries are the numbers used to separate classes without the gaps of class limits.\")\n",
    "print(\"Lower class limits are the smallest numbers that can be in different classes. Upper class limits are the largest numbers that can be in different classes.\")\n",
    "print(\"Class width is the difference between two lower or upper class limits.\")\n",
    "print(\"Bins are for computery stuff and classes are for not-computery stuff, which means I don't know.\")"
   ]
  },
  {
   "cell_type": "code",
   "execution_count": null,
   "metadata": {},
   "outputs": [],
   "source": [
    "chocolates = np.random.randint(50, 5000, 1000)\n",
    "bins = [\n",
    "    (50, 1039),\n",
    "    (1040, 2029),\n",
    "    (2030, 3019),\n",
    "    (3020, 4009),\n",
    "    (4010, 4999)\n",
    "]\n",
    "\n",
    "counts = np.zeros(5)\n",
    "\n",
    "for c in chocolates:\n",
    "    for num in range(0, 5):\n",
    "        if bins[num][0] <= c <= bins[num][1]:\n",
    "            counts[num] += 1\n",
    "\n",
    "for (lower, upper), count in zip(bins, counts):\n",
    "    print(f\"{lower:04}-{upper}\\t{count}\")"
   ]
  },
  {
   "cell_type": "code",
   "execution_count": null,
   "metadata": {},
   "outputs": [],
   "source": [
    "np.sum(counts)"
   ]
  },
  {
   "cell_type": "markdown",
   "metadata": {},
   "source": [
    "## Relative Frequencies\n",
    "Measures the %age of data in each bin. Lets calculate it for the original dataset of `cotinine_levels`"
   ]
  },
  {
   "cell_type": "code",
   "execution_count": null,
   "metadata": {},
   "outputs": [],
   "source": [
    "freqs = np.zeros(5)\n",
    "cotinine_bins = [\n",
    "    (0, 99),\n",
    "    (100, 199),\n",
    "    (200, 299),\n",
    "    (300, 399),\n",
    "    (400, 499)\n",
    "]\n",
    "for x in cotinine_levels:\n",
    "    for num in range(len(cotinine_bins)):\n",
    "        if cotinine_bins[num][0] <= x <= cotinine_bins[num][1]:\n",
    "            freqs[num] += 1"
   ]
  },
  {
   "cell_type": "code",
   "execution_count": null,
   "metadata": {},
   "outputs": [],
   "source": [
    "freqs"
   ]
  },
  {
   "cell_type": "code",
   "execution_count": null,
   "metadata": {},
   "outputs": [],
   "source": [
    "rel_freqs = [0] * 5\n",
    "tot = len(cotinine_levels)\n",
    "for i in range(len(rel_freqs)):\n",
    "    rel_freqs[i] = freqs[i] / tot\n",
    "print(rel_freqs)"
   ]
  },
  {
   "cell_type": "code",
   "execution_count": null,
   "metadata": {},
   "outputs": [],
   "source": [
    "rel_freqs = freqs / np.sum(freqs)\n",
    "rel_freqs"
   ]
  },
  {
   "cell_type": "markdown",
   "metadata": {},
   "source": [
    "## Cumulative Frequency Distribution\n",
    "This is the distribution which tells how many elements are in this bin and all other bins that came before it."
   ]
  },
  {
   "cell_type": "markdown",
   "metadata": {},
   "source": [
    "# Assignment 5/13\n",
    "## Main Assignment\n",
    "\n",
    "  * Calculate the relative frequency distribution for your chocolate dataset.\n",
    "  * Write elegant Python code to calculate the cumulative frequency distribution of the `cotinine_levels` dataset. Compare your answers with the table in the book.\n",
    "  * What do you think relative and cumulative frequency distributions are used for? Feel free to google this answer.\n",
    "  * Learn [Markdown](https://learnxinyminutes.com/docs/markdown/) and write your answer to the question above in a Markdown cell.\n",
    "\n",
    "## Stretch Assignment\n",
    "Just like we did for relative frequency, is there a more convenient way of calculating cumulative frequency distributions using `numpy`? Feel free to google your answer or look at the `numpy` [documentation](https://numpy.org/doc/stable/). Hint: it will involve using a function provided by numpy."
   ]
  },
  {
   "cell_type": "code",
   "execution_count": null,
   "metadata": {},
   "outputs": [],
   "source": [
    "rel_freaks = counts / np.sum(counts)\n",
    "rel_freaks"
   ]
  },
  {
   "cell_type": "code",
   "execution_count": null,
   "metadata": {},
   "outputs": [],
   "source": []
  }
 ],
 "metadata": {
  "language_info": {
   "codemirror_mode": {
    "name": "ipython",
    "version": 3
   },
   "file_extension": ".py",
   "mimetype": "text/x-python",
   "name": "python",
   "nbconvert_exporter": "python",
   "pygments_lexer": "ipython3",
   "version": "3.7.4-final"
  },
  "orig_nbformat": 2,
  "kernelspec": {
   "name": "python37464bitb8013970b41d42649bb995b731aad042",
   "display_name": "Python 3.7.4 64-bit"
  }
 },
 "nbformat": 4,
 "nbformat_minor": 2
}