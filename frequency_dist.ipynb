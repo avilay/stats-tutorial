{
 "cells": [
  {
   "cell_type": "code",
   "execution_count": 2,
   "metadata": {},
   "outputs": [],
   "source": [
    "import numpy as np\n",
    "import matplotlib.pyplot as plt"
   ]
  },
  {
   "cell_type": "code",
   "execution_count": 3,
   "metadata": {},
   "outputs": [],
   "source": [
    "%matplotlib inline"
   ]
  },
  {
   "cell_type": "code",
   "execution_count": 4,
   "metadata": {},
   "outputs": [
    {
     "output_type": "execute_result",
     "data": {
      "text/plain": "(40,)"
     },
     "metadata": {},
     "execution_count": 4
    }
   ],
   "source": [
    "cotinine_levels = np.array([1, 35, 130, 123, 0, 112, 234, 167, 131, 477, 164, 250, 173, 289, 198, 245, 265, 227, 17, 48, 210, 103, 253, 86, 44, 222, 87, 284, 277, 149, 121, 1, 32, 313, 266, 208, 3, 491, 290, 173])\n",
    "cotinine_levels.shape"
   ]
  },
  {
   "cell_type": "code",
   "execution_count": 5,
   "metadata": {},
   "outputs": [
    {
     "output_type": "execute_result",
     "data": {
      "text/plain": "array([  0,   1,   1,   3,  17,  32,  35,  44,  48,  86,  87, 103, 112,\n       121, 123, 130, 131, 149, 164, 167, 173, 173, 198, 208, 210, 222,\n       227, 234, 245, 250, 253, 265, 266, 277, 284, 289, 290, 313, 477,\n       491])"
     },
     "metadata": {},
     "execution_count": 5
    }
   ],
   "source": [
    "np.sort(cotinine_levels)"
   ]
  },
  {
   "cell_type": "code",
   "execution_count": 6,
   "metadata": {},
   "outputs": [
    {
     "output_type": "execute_result",
     "data": {
      "text/plain": "(array([9., 8., 8., 9., 4., 0., 2.]),\n array([  0.        ,  70.14285714, 140.28571429, 210.42857143,\n        280.57142857, 350.71428571, 420.85714286, 491.        ]),\n <a list of 7 Patch objects>)"
     },
     "metadata": {},
     "execution_count": 6
    },
    {
     "output_type": "display_data",
     "data": {
      "text/plain": "<Figure size 432x288 with 1 Axes>",
      "image/svg+xml": "<?xml version=\"1.0\" encoding=\"utf-8\" standalone=\"no\"?>\n<!DOCTYPE svg PUBLIC \"-//W3C//DTD SVG 1.1//EN\"\n  \"http://www.w3.org/Graphics/SVG/1.1/DTD/svg11.dtd\">\n<!-- Created with matplotlib (https://matplotlib.org/) -->\n<svg height=\"248.518125pt\" version=\"1.1\" viewBox=\"0 0 362.5625 248.518125\" width=\"362.5625pt\" xmlns=\"http://www.w3.org/2000/svg\" xmlns:xlink=\"http://www.w3.org/1999/xlink\">\n <defs>\n  <style type=\"text/css\">\n*{stroke-linecap:butt;stroke-linejoin:round;}\n  </style>\n </defs>\n <g id=\"figure_1\">\n  <g id=\"patch_1\">\n   <path d=\"M 0 248.518125 \nL 362.5625 248.518125 \nL 362.5625 0 \nL 0 0 \nz\n\" style=\"fill:none;\"/>\n  </g>\n  <g id=\"axes_1\">\n   <g id=\"patch_2\">\n    <path d=\"M 20.5625 224.64 \nL 355.3625 224.64 \nL 355.3625 7.2 \nL 20.5625 7.2 \nz\n\" style=\"fill:#ffffff;\"/>\n   </g>\n   <g id=\"patch_3\">\n    <path clip-path=\"url(#pf76f1fac8a)\" d=\"M 35.780682 224.64 \nL 79.261201 224.64 \nL 79.261201 17.554286 \nL 35.780682 17.554286 \nz\n\" style=\"fill:#1f77b4;\"/>\n   </g>\n   <g id=\"patch_4\">\n    <path clip-path=\"url(#pf76f1fac8a)\" d=\"M 79.261201 224.64 \nL 122.741721 224.64 \nL 122.741721 40.56381 \nL 79.261201 40.56381 \nz\n\" style=\"fill:#1f77b4;\"/>\n   </g>\n   <g id=\"patch_5\">\n    <path clip-path=\"url(#pf76f1fac8a)\" d=\"M 122.741721 224.64 \nL 166.22224 224.64 \nL 166.22224 40.56381 \nL 122.741721 40.56381 \nz\n\" style=\"fill:#1f77b4;\"/>\n   </g>\n   <g id=\"patch_6\">\n    <path clip-path=\"url(#pf76f1fac8a)\" d=\"M 166.22224 224.64 \nL 209.70276 224.64 \nL 209.70276 17.554286 \nL 166.22224 17.554286 \nz\n\" style=\"fill:#1f77b4;\"/>\n   </g>\n   <g id=\"patch_7\">\n    <path clip-path=\"url(#pf76f1fac8a)\" d=\"M 209.70276 224.64 \nL 253.183279 224.64 \nL 253.183279 132.601905 \nL 209.70276 132.601905 \nz\n\" style=\"fill:#1f77b4;\"/>\n   </g>\n   <g id=\"patch_8\">\n    <path clip-path=\"url(#pf76f1fac8a)\" d=\"M 253.183279 224.64 \nL 296.663799 224.64 \nL 296.663799 224.64 \nL 253.183279 224.64 \nz\n\" style=\"fill:#1f77b4;\"/>\n   </g>\n   <g id=\"patch_9\">\n    <path clip-path=\"url(#pf76f1fac8a)\" d=\"M 296.663799 224.64 \nL 340.144318 224.64 \nL 340.144318 178.620952 \nL 296.663799 178.620952 \nz\n\" style=\"fill:#1f77b4;\"/>\n   </g>\n   <g id=\"matplotlib.axis_1\">\n    <g id=\"xtick_1\">\n     <g id=\"line2d_1\">\n      <defs>\n       <path d=\"M 0 0 \nL 0 3.5 \n\" id=\"m6ec57e92fc\" style=\"stroke:#000000;stroke-width:0.8;\"/>\n      </defs>\n      <g>\n       <use style=\"stroke:#000000;stroke-width:0.8;\" x=\"35.780682\" xlink:href=\"#m6ec57e92fc\" y=\"224.64\"/>\n      </g>\n     </g>\n     <g id=\"text_1\">\n      <!-- 0 -->\n      <defs>\n       <path d=\"M 31.78125 66.40625 \nQ 24.171875 66.40625 20.328125 58.90625 \nQ 16.5 51.421875 16.5 36.375 \nQ 16.5 21.390625 20.328125 13.890625 \nQ 24.171875 6.390625 31.78125 6.390625 \nQ 39.453125 6.390625 43.28125 13.890625 \nQ 47.125 21.390625 47.125 36.375 \nQ 47.125 51.421875 43.28125 58.90625 \nQ 39.453125 66.40625 31.78125 66.40625 \nz\nM 31.78125 74.21875 \nQ 44.046875 74.21875 50.515625 64.515625 \nQ 56.984375 54.828125 56.984375 36.375 \nQ 56.984375 17.96875 50.515625 8.265625 \nQ 44.046875 -1.421875 31.78125 -1.421875 \nQ 19.53125 -1.421875 13.0625 8.265625 \nQ 6.59375 17.96875 6.59375 36.375 \nQ 6.59375 54.828125 13.0625 64.515625 \nQ 19.53125 74.21875 31.78125 74.21875 \nz\n\" id=\"DejaVuSans-48\"/>\n      </defs>\n      <g transform=\"translate(32.599432 239.238437)scale(0.1 -0.1)\">\n       <use xlink:href=\"#DejaVuSans-48\"/>\n      </g>\n     </g>\n    </g>\n    <g id=\"xtick_2\">\n     <g id=\"line2d_2\">\n      <g>\n       <use style=\"stroke:#000000;stroke-width:0.8;\" x=\"97.769202\" xlink:href=\"#m6ec57e92fc\" y=\"224.64\"/>\n      </g>\n     </g>\n     <g id=\"text_2\">\n      <!-- 100 -->\n      <defs>\n       <path d=\"M 12.40625 8.296875 \nL 28.515625 8.296875 \nL 28.515625 63.921875 \nL 10.984375 60.40625 \nL 10.984375 69.390625 \nL 28.421875 72.90625 \nL 38.28125 72.90625 \nL 38.28125 8.296875 \nL 54.390625 8.296875 \nL 54.390625 0 \nL 12.40625 0 \nz\n\" id=\"DejaVuSans-49\"/>\n      </defs>\n      <g transform=\"translate(88.225452 239.238437)scale(0.1 -0.1)\">\n       <use xlink:href=\"#DejaVuSans-49\"/>\n       <use x=\"63.623047\" xlink:href=\"#DejaVuSans-48\"/>\n       <use x=\"127.246094\" xlink:href=\"#DejaVuSans-48\"/>\n      </g>\n     </g>\n    </g>\n    <g id=\"xtick_3\">\n     <g id=\"line2d_3\">\n      <g>\n       <use style=\"stroke:#000000;stroke-width:0.8;\" x=\"159.757723\" xlink:href=\"#m6ec57e92fc\" y=\"224.64\"/>\n      </g>\n     </g>\n     <g id=\"text_3\">\n      <!-- 200 -->\n      <defs>\n       <path d=\"M 19.1875 8.296875 \nL 53.609375 8.296875 \nL 53.609375 0 \nL 7.328125 0 \nL 7.328125 8.296875 \nQ 12.9375 14.109375 22.625 23.890625 \nQ 32.328125 33.6875 34.8125 36.53125 \nQ 39.546875 41.84375 41.421875 45.53125 \nQ 43.3125 49.21875 43.3125 52.78125 \nQ 43.3125 58.59375 39.234375 62.25 \nQ 35.15625 65.921875 28.609375 65.921875 \nQ 23.96875 65.921875 18.8125 64.3125 \nQ 13.671875 62.703125 7.8125 59.421875 \nL 7.8125 69.390625 \nQ 13.765625 71.78125 18.9375 73 \nQ 24.125 74.21875 28.421875 74.21875 \nQ 39.75 74.21875 46.484375 68.546875 \nQ 53.21875 62.890625 53.21875 53.421875 \nQ 53.21875 48.921875 51.53125 44.890625 \nQ 49.859375 40.875 45.40625 35.40625 \nQ 44.1875 33.984375 37.640625 27.21875 \nQ 31.109375 20.453125 19.1875 8.296875 \nz\n\" id=\"DejaVuSans-50\"/>\n      </defs>\n      <g transform=\"translate(150.213973 239.238437)scale(0.1 -0.1)\">\n       <use xlink:href=\"#DejaVuSans-50\"/>\n       <use x=\"63.623047\" xlink:href=\"#DejaVuSans-48\"/>\n       <use x=\"127.246094\" xlink:href=\"#DejaVuSans-48\"/>\n      </g>\n     </g>\n    </g>\n    <g id=\"xtick_4\">\n     <g id=\"line2d_4\">\n      <g>\n       <use style=\"stroke:#000000;stroke-width:0.8;\" x=\"221.746244\" xlink:href=\"#m6ec57e92fc\" y=\"224.64\"/>\n      </g>\n     </g>\n     <g id=\"text_4\">\n      <!-- 300 -->\n      <defs>\n       <path d=\"M 40.578125 39.3125 \nQ 47.65625 37.796875 51.625 33 \nQ 55.609375 28.21875 55.609375 21.1875 \nQ 55.609375 10.40625 48.1875 4.484375 \nQ 40.765625 -1.421875 27.09375 -1.421875 \nQ 22.515625 -1.421875 17.65625 -0.515625 \nQ 12.796875 0.390625 7.625 2.203125 \nL 7.625 11.71875 \nQ 11.71875 9.328125 16.59375 8.109375 \nQ 21.484375 6.890625 26.8125 6.890625 \nQ 36.078125 6.890625 40.9375 10.546875 \nQ 45.796875 14.203125 45.796875 21.1875 \nQ 45.796875 27.640625 41.28125 31.265625 \nQ 36.765625 34.90625 28.71875 34.90625 \nL 20.21875 34.90625 \nL 20.21875 43.015625 \nL 29.109375 43.015625 \nQ 36.375 43.015625 40.234375 45.921875 \nQ 44.09375 48.828125 44.09375 54.296875 \nQ 44.09375 59.90625 40.109375 62.90625 \nQ 36.140625 65.921875 28.71875 65.921875 \nQ 24.65625 65.921875 20.015625 65.03125 \nQ 15.375 64.15625 9.8125 62.3125 \nL 9.8125 71.09375 \nQ 15.4375 72.65625 20.34375 73.4375 \nQ 25.25 74.21875 29.59375 74.21875 \nQ 40.828125 74.21875 47.359375 69.109375 \nQ 53.90625 64.015625 53.90625 55.328125 \nQ 53.90625 49.265625 50.4375 45.09375 \nQ 46.96875 40.921875 40.578125 39.3125 \nz\n\" id=\"DejaVuSans-51\"/>\n      </defs>\n      <g transform=\"translate(212.202494 239.238437)scale(0.1 -0.1)\">\n       <use xlink:href=\"#DejaVuSans-51\"/>\n       <use x=\"63.623047\" xlink:href=\"#DejaVuSans-48\"/>\n       <use x=\"127.246094\" xlink:href=\"#DejaVuSans-48\"/>\n      </g>\n     </g>\n    </g>\n    <g id=\"xtick_5\">\n     <g id=\"line2d_5\">\n      <g>\n       <use style=\"stroke:#000000;stroke-width:0.8;\" x=\"283.734764\" xlink:href=\"#m6ec57e92fc\" y=\"224.64\"/>\n      </g>\n     </g>\n     <g id=\"text_5\">\n      <!-- 400 -->\n      <defs>\n       <path d=\"M 37.796875 64.3125 \nL 12.890625 25.390625 \nL 37.796875 25.390625 \nz\nM 35.203125 72.90625 \nL 47.609375 72.90625 \nL 47.609375 25.390625 \nL 58.015625 25.390625 \nL 58.015625 17.1875 \nL 47.609375 17.1875 \nL 47.609375 0 \nL 37.796875 0 \nL 37.796875 17.1875 \nL 4.890625 17.1875 \nL 4.890625 26.703125 \nz\n\" id=\"DejaVuSans-52\"/>\n      </defs>\n      <g transform=\"translate(274.191014 239.238437)scale(0.1 -0.1)\">\n       <use xlink:href=\"#DejaVuSans-52\"/>\n       <use x=\"63.623047\" xlink:href=\"#DejaVuSans-48\"/>\n       <use x=\"127.246094\" xlink:href=\"#DejaVuSans-48\"/>\n      </g>\n     </g>\n    </g>\n    <g id=\"xtick_6\">\n     <g id=\"line2d_6\">\n      <g>\n       <use style=\"stroke:#000000;stroke-width:0.8;\" x=\"345.723285\" xlink:href=\"#m6ec57e92fc\" y=\"224.64\"/>\n      </g>\n     </g>\n     <g id=\"text_6\">\n      <!-- 500 -->\n      <defs>\n       <path d=\"M 10.796875 72.90625 \nL 49.515625 72.90625 \nL 49.515625 64.59375 \nL 19.828125 64.59375 \nL 19.828125 46.734375 \nQ 21.96875 47.46875 24.109375 47.828125 \nQ 26.265625 48.1875 28.421875 48.1875 \nQ 40.625 48.1875 47.75 41.5 \nQ 54.890625 34.8125 54.890625 23.390625 \nQ 54.890625 11.625 47.5625 5.09375 \nQ 40.234375 -1.421875 26.90625 -1.421875 \nQ 22.3125 -1.421875 17.546875 -0.640625 \nQ 12.796875 0.140625 7.71875 1.703125 \nL 7.71875 11.625 \nQ 12.109375 9.234375 16.796875 8.0625 \nQ 21.484375 6.890625 26.703125 6.890625 \nQ 35.15625 6.890625 40.078125 11.328125 \nQ 45.015625 15.765625 45.015625 23.390625 \nQ 45.015625 31 40.078125 35.4375 \nQ 35.15625 39.890625 26.703125 39.890625 \nQ 22.75 39.890625 18.8125 39.015625 \nQ 14.890625 38.140625 10.796875 36.28125 \nz\n\" id=\"DejaVuSans-53\"/>\n      </defs>\n      <g transform=\"translate(336.179535 239.238437)scale(0.1 -0.1)\">\n       <use xlink:href=\"#DejaVuSans-53\"/>\n       <use x=\"63.623047\" xlink:href=\"#DejaVuSans-48\"/>\n       <use x=\"127.246094\" xlink:href=\"#DejaVuSans-48\"/>\n      </g>\n     </g>\n    </g>\n   </g>\n   <g id=\"matplotlib.axis_2\">\n    <g id=\"ytick_1\">\n     <g id=\"line2d_7\">\n      <defs>\n       <path d=\"M 0 0 \nL -3.5 0 \n\" id=\"meec291170e\" style=\"stroke:#000000;stroke-width:0.8;\"/>\n      </defs>\n      <g>\n       <use style=\"stroke:#000000;stroke-width:0.8;\" x=\"20.5625\" xlink:href=\"#meec291170e\" y=\"224.64\"/>\n      </g>\n     </g>\n     <g id=\"text_7\">\n      <!-- 0 -->\n      <g transform=\"translate(7.2 228.439219)scale(0.1 -0.1)\">\n       <use xlink:href=\"#DejaVuSans-48\"/>\n      </g>\n     </g>\n    </g>\n    <g id=\"ytick_2\">\n     <g id=\"line2d_8\">\n      <g>\n       <use style=\"stroke:#000000;stroke-width:0.8;\" x=\"20.5625\" xlink:href=\"#meec291170e\" y=\"178.620952\"/>\n      </g>\n     </g>\n     <g id=\"text_8\">\n      <!-- 2 -->\n      <g transform=\"translate(7.2 182.420171)scale(0.1 -0.1)\">\n       <use xlink:href=\"#DejaVuSans-50\"/>\n      </g>\n     </g>\n    </g>\n    <g id=\"ytick_3\">\n     <g id=\"line2d_9\">\n      <g>\n       <use style=\"stroke:#000000;stroke-width:0.8;\" x=\"20.5625\" xlink:href=\"#meec291170e\" y=\"132.601905\"/>\n      </g>\n     </g>\n     <g id=\"text_9\">\n      <!-- 4 -->\n      <g transform=\"translate(7.2 136.401124)scale(0.1 -0.1)\">\n       <use xlink:href=\"#DejaVuSans-52\"/>\n      </g>\n     </g>\n    </g>\n    <g id=\"ytick_4\">\n     <g id=\"line2d_10\">\n      <g>\n       <use style=\"stroke:#000000;stroke-width:0.8;\" x=\"20.5625\" xlink:href=\"#meec291170e\" y=\"86.582857\"/>\n      </g>\n     </g>\n     <g id=\"text_10\">\n      <!-- 6 -->\n      <defs>\n       <path d=\"M 33.015625 40.375 \nQ 26.375 40.375 22.484375 35.828125 \nQ 18.609375 31.296875 18.609375 23.390625 \nQ 18.609375 15.53125 22.484375 10.953125 \nQ 26.375 6.390625 33.015625 6.390625 \nQ 39.65625 6.390625 43.53125 10.953125 \nQ 47.40625 15.53125 47.40625 23.390625 \nQ 47.40625 31.296875 43.53125 35.828125 \nQ 39.65625 40.375 33.015625 40.375 \nz\nM 52.59375 71.296875 \nL 52.59375 62.3125 \nQ 48.875 64.0625 45.09375 64.984375 \nQ 41.3125 65.921875 37.59375 65.921875 \nQ 27.828125 65.921875 22.671875 59.328125 \nQ 17.53125 52.734375 16.796875 39.40625 \nQ 19.671875 43.65625 24.015625 45.921875 \nQ 28.375 48.1875 33.59375 48.1875 \nQ 44.578125 48.1875 50.953125 41.515625 \nQ 57.328125 34.859375 57.328125 23.390625 \nQ 57.328125 12.15625 50.6875 5.359375 \nQ 44.046875 -1.421875 33.015625 -1.421875 \nQ 20.359375 -1.421875 13.671875 8.265625 \nQ 6.984375 17.96875 6.984375 36.375 \nQ 6.984375 53.65625 15.1875 63.9375 \nQ 23.390625 74.21875 37.203125 74.21875 \nQ 40.921875 74.21875 44.703125 73.484375 \nQ 48.484375 72.75 52.59375 71.296875 \nz\n\" id=\"DejaVuSans-54\"/>\n      </defs>\n      <g transform=\"translate(7.2 90.382076)scale(0.1 -0.1)\">\n       <use xlink:href=\"#DejaVuSans-54\"/>\n      </g>\n     </g>\n    </g>\n    <g id=\"ytick_5\">\n     <g id=\"line2d_11\">\n      <g>\n       <use style=\"stroke:#000000;stroke-width:0.8;\" x=\"20.5625\" xlink:href=\"#meec291170e\" y=\"40.56381\"/>\n      </g>\n     </g>\n     <g id=\"text_11\">\n      <!-- 8 -->\n      <defs>\n       <path d=\"M 31.78125 34.625 \nQ 24.75 34.625 20.71875 30.859375 \nQ 16.703125 27.09375 16.703125 20.515625 \nQ 16.703125 13.921875 20.71875 10.15625 \nQ 24.75 6.390625 31.78125 6.390625 \nQ 38.8125 6.390625 42.859375 10.171875 \nQ 46.921875 13.96875 46.921875 20.515625 \nQ 46.921875 27.09375 42.890625 30.859375 \nQ 38.875 34.625 31.78125 34.625 \nz\nM 21.921875 38.8125 \nQ 15.578125 40.375 12.03125 44.71875 \nQ 8.5 49.078125 8.5 55.328125 \nQ 8.5 64.0625 14.71875 69.140625 \nQ 20.953125 74.21875 31.78125 74.21875 \nQ 42.671875 74.21875 48.875 69.140625 \nQ 55.078125 64.0625 55.078125 55.328125 \nQ 55.078125 49.078125 51.53125 44.71875 \nQ 48 40.375 41.703125 38.8125 \nQ 48.828125 37.15625 52.796875 32.3125 \nQ 56.78125 27.484375 56.78125 20.515625 \nQ 56.78125 9.90625 50.3125 4.234375 \nQ 43.84375 -1.421875 31.78125 -1.421875 \nQ 19.734375 -1.421875 13.25 4.234375 \nQ 6.78125 9.90625 6.78125 20.515625 \nQ 6.78125 27.484375 10.78125 32.3125 \nQ 14.796875 37.15625 21.921875 38.8125 \nz\nM 18.3125 54.390625 \nQ 18.3125 48.734375 21.84375 45.5625 \nQ 25.390625 42.390625 31.78125 42.390625 \nQ 38.140625 42.390625 41.71875 45.5625 \nQ 45.3125 48.734375 45.3125 54.390625 \nQ 45.3125 60.0625 41.71875 63.234375 \nQ 38.140625 66.40625 31.78125 66.40625 \nQ 25.390625 66.40625 21.84375 63.234375 \nQ 18.3125 60.0625 18.3125 54.390625 \nz\n\" id=\"DejaVuSans-56\"/>\n      </defs>\n      <g transform=\"translate(7.2 44.363028)scale(0.1 -0.1)\">\n       <use xlink:href=\"#DejaVuSans-56\"/>\n      </g>\n     </g>\n    </g>\n   </g>\n   <g id=\"patch_10\">\n    <path d=\"M 20.5625 224.64 \nL 20.5625 7.2 \n\" style=\"fill:none;stroke:#000000;stroke-linecap:square;stroke-linejoin:miter;stroke-width:0.8;\"/>\n   </g>\n   <g id=\"patch_11\">\n    <path d=\"M 355.3625 224.64 \nL 355.3625 7.2 \n\" style=\"fill:none;stroke:#000000;stroke-linecap:square;stroke-linejoin:miter;stroke-width:0.8;\"/>\n   </g>\n   <g id=\"patch_12\">\n    <path d=\"M 20.5625 224.64 \nL 355.3625 224.64 \n\" style=\"fill:none;stroke:#000000;stroke-linecap:square;stroke-linejoin:miter;stroke-width:0.8;\"/>\n   </g>\n   <g id=\"patch_13\">\n    <path d=\"M 20.5625 7.2 \nL 355.3625 7.2 \n\" style=\"fill:none;stroke:#000000;stroke-linecap:square;stroke-linejoin:miter;stroke-width:0.8;\"/>\n   </g>\n  </g>\n </g>\n <defs>\n  <clipPath id=\"pf76f1fac8a\">\n   <rect height=\"217.44\" width=\"334.8\" x=\"20.5625\" y=\"7.2\"/>\n  </clipPath>\n </defs>\n</svg>\n",
      "image/png": "[encoded data removed]"
     },
     "metadata": {
      "needs_background": "light"
     }
    }
   ],
   "source": [
    "plt.hist(cotinine_levels, bins=7)"
   ]
  },
  {
   "cell_type": "code",
   "execution_count": 7,
   "metadata": {},
   "outputs": [],
   "source": [
    "bins = [\n",
    "    (0, 99),\n",
    "    (100, 199),\n",
    "    (200, 299),\n",
    "    (300, 399),\n",
    "    (400, 499)\n",
    "]"
   ]
  },
  {
   "cell_type": "code",
   "execution_count": 8,
   "metadata": {},
   "outputs": [
    {
     "output_type": "execute_result",
     "data": {
      "text/plain": "[0, 0, 0, 0, 0]"
     },
     "metadata": {},
     "execution_count": 8
    }
   ],
   "source": [
    "counts = [0] * 5\n",
    "counts"
   ]
  },
  {
   "cell_type": "code",
   "execution_count": 9,
   "metadata": {},
   "outputs": [],
   "source": [
    "for cl in cotinine_levels:\n",
    "    if 0 <= cl <= 99:\n",
    "        counts[0] += 1\n",
    "    elif 100 <= cl <= 199:\n",
    "        counts[1] += 1\n",
    "    elif 200 <= cl <= 299:\n",
    "        counts[2] += 1\n",
    "    elif 300 <= cl <= 399:\n",
    "        counts[3] += 1\n",
    "    elif 400 <= cl <= 499:\n",
    "        counts[4] += 1"
   ]
  },
  {
   "cell_type": "code",
   "execution_count": 10,
   "metadata": {},
   "outputs": [
    {
     "output_type": "execute_result",
     "data": {
      "text/plain": "[11, 12, 14, 1, 2]"
     },
     "metadata": {},
     "execution_count": 10
    }
   ],
   "source": [
    "counts"
   ]
  },
  {
   "cell_type": "code",
   "execution_count": 11,
   "metadata": {},
   "outputs": [
    {
     "output_type": "stream",
     "name": "stdout",
     "text": "0-99\t11\n100-199\t12\n200-299\t14\n300-399\t1\n400-499\t2\n"
    }
   ],
   "source": [
    "for (lower, upper), count in zip(bins, counts):\n",
    "    print(f\"{lower}-{upper}\\t{count}\")"
   ]
  },
  {
   "cell_type": "code",
   "execution_count": 12,
   "metadata": {},
   "outputs": [
    {
     "output_type": "stream",
     "name": "stdout",
     "text": "Positive Negative x10\n1 -1 10\n2 -2 20\n3 -3 30\n4 -4 40\n"
    }
   ],
   "source": [
    "arr1 = [(\"Positive\", \"Negative\"), (1, -1), (2, -2), (3, -3), (4, -4)]\n",
    "arr2 = [\"x10\", 10, 20, 30, 40]\n",
    "for (posx, negx), y in zip(arr1, arr2):\n",
    "    print(posx, negx, y)"
   ]
  },
  {
   "cell_type": "markdown",
   "metadata": {},
   "source": [
    "# Assignment 5/11\n",
    "## Main Assignment\n",
    "\n",
    "  * Define the terms **Class Boundaries**, **Class Limits**, and **Class Width**.\n",
    "  * What is the difference between the term *class* and the term *bin* the way we have used above?\n",
    "  * Create a dataset with 1000 elements, with each element being between 50 and 5000. Then print a frequency distribution table. Decide upon the class boundaries, limits, and width yourself. Mention what you chose for each and why.\n",
    "\n",
    "## Stretch Assignment\n",
    "In the for-loop, instead of hard-coding the class limits in the if-condition, use the `bins` array to check which bin an element belongs to."
   ]
  },
  {
   "cell_type": "markdown",
   "metadata": {},
   "source": []
  },
  {
   "cell_type": "code",
   "execution_count": 13,
   "metadata": {},
   "outputs": [
    {
     "output_type": "stream",
     "name": "stdout",
     "text": "Class boundaries are the numbers used to separate classes without the gaps of class limits.\nLower class limits are the smallest numbers that can be in different classes. Upper class limits are the largest numbers that can be in different classes.\nClass width is the difference between two lower or upper class limits.\nBins are for computery stuff and classes are for not-computery stuff, which means I don't know.\n"
    }
   ],
   "source": [
    "print(\"Class boundaries are the numbers used to separate classes without the gaps of class limits.\")\n",
    "print(\"Lower class limits are the smallest numbers that can be in different classes. Upper class limits are the largest numbers that can be in different classes.\")\n",
    "print(\"Class width is the difference between two lower or upper class limits.\")\n",
    "print(\"Bins are for computery stuff and classes are for not-computery stuff, which means I don't know.\")"
   ]
  },
  {
   "cell_type": "code",
   "execution_count": 14,
   "metadata": {},
   "outputs": [
    {
     "output_type": "stream",
     "name": "stdout",
     "text": "0050-1039\t197.0\n1040-2029\t204.0\n2030-3019\t195.0\n3020-4009\t198.0\n4010-4999\t206.0\n"
    }
   ],
   "source": [
    "chocolates = np.random.randint(50, 5000, 1000)\n",
    "bins = [\n",
    "    (50, 1039),\n",
    "    (1040, 2029),\n",
    "    (2030, 3019),\n",
    "    (3020, 4009),\n",
    "    (4010, 4999)\n",
    "]\n",
    "\n",
    "counts = np.zeros(5)\n",
    "\n",
    "for c in chocolates:\n",
    "    for num in range(0, 5):\n",
    "        if bins[num][0] <= c <= bins[num][1]:\n",
    "            counts[num] += 1\n",
    "\n",
    "for (lower, upper), count in zip(bins, counts):\n",
    "    print(f\"{lower:04}-{upper}\\t{count}\")"
   ]
  },
  {
   "cell_type": "code",
   "execution_count": 15,
   "metadata": {},
   "outputs": [
    {
     "output_type": "execute_result",
     "data": {
      "text/plain": "1000.0"
     },
     "metadata": {},
     "execution_count": 15
    }
   ],
   "source": [
    "np.sum(counts)"
   ]
  },
  {
   "cell_type": "markdown",
   "metadata": {},
   "source": [
    "## Relative Frequencies\n",
    "Measures the %age of data in each bin. Lets calculate it for the original dataset of `cotinine_levels`"
   ]
  },
  {
   "cell_type": "code",
   "execution_count": 16,
   "metadata": {},
   "outputs": [],
   "source": [
    "freqs = np.zeros(5)\n",
    "cotinine_bins = [\n",
    "    (0, 99),\n",
    "    (100, 199),\n",
    "    (200, 299),\n",
    "    (300, 399),\n",
    "    (400, 499)\n",
    "]\n",
    "for x in cotinine_levels:\n",
    "    for num in range(len(cotinine_bins)):\n",
    "        if cotinine_bins[num][0] <= x <= cotinine_bins[num][1]:\n",
    "            freqs[num] += 1"
   ]
  },
  {
   "cell_type": "code",
   "execution_count": 17,
   "metadata": {},
   "outputs": [
    {
     "output_type": "execute_result",
     "data": {
      "text/plain": "array([11., 12., 14.,  1.,  2.])"
     },
     "metadata": {},
     "execution_count": 17
    }
   ],
   "source": [
    "freqs"
   ]
  },
  {
   "cell_type": "code",
   "execution_count": 18,
   "metadata": {},
   "outputs": [
    {
     "output_type": "stream",
     "name": "stdout",
     "text": "[0.275, 0.3, 0.35, 0.025, 0.05]\n"
    }
   ],
   "source": [
    "rel_freqs = [0] * 5\n",
    "tot = len(cotinine_levels)\n",
    "for i in range(len(rel_freqs)):\n",
    "    rel_freqs[i] = freqs[i] / tot\n",
    "print(rel_freqs)"
   ]
  },
  {
   "cell_type": "code",
   "execution_count": 19,
   "metadata": {},
   "outputs": [
    {
     "output_type": "execute_result",
     "data": {
      "text/plain": "array([0.275, 0.3  , 0.35 , 0.025, 0.05 ])"
     },
     "metadata": {},
     "execution_count": 19
    }
   ],
   "source": [
    "rel_freqs = freqs / np.sum(freqs)\n",
    "rel_freqs"
   ]
  },
  {
   "cell_type": "markdown",
   "metadata": {},
   "source": [
    "## Cumulative Frequency Distribution\n",
    "This is the distribution which tells how many elements are in this bin and all other bins that came before it."
   ]
  },
  {
   "cell_type": "markdown",
   "metadata": {},
   "source": [
    "# Assignment 5/13\n",
    "## Main Assignment\n",
    "\n",
    "  * Calculate the relative frequency distribution for your chocolate dataset.\n",
    "  * Write elegant Python code to calculate the cumulative frequency distribution of the `cotinine_levels` dataset. Compare your answers with the table in the book.\n",
    "  * What do you think relative and cumulative frequency distributions are used for? Feel free to google this answer.\n",
    "  * Learn [Markdown](https://learnxinyminutes.com/docs/markdown/) and write your answer to the question above in a Markdown cell.\n",
    "\n",
    "## Stretch Assignment\n",
    "Just like we did for relative frequency, is there a more convenient way of calculating cumulative frequency distributions using `numpy`? Feel free to google your answer or look at the `numpy` [documentation](https://numpy.org/doc/stable/). Hint: it will involve using a function provided by numpy."
   ]
  },
  {
   "cell_type": "code",
   "execution_count": 20,
   "metadata": {},
   "outputs": [
    {
     "output_type": "execute_result",
     "data": {
      "text/plain": "array([0.197, 0.204, 0.195, 0.198, 0.206])"
     },
     "metadata": {},
     "execution_count": 20
    }
   ],
   "source": [
    "rel_freaks = counts / np.sum(counts)\n",
    "rel_freaks"
   ]
  },
  {
   "cell_type": "code",
   "execution_count": 21,
   "metadata": {},
   "outputs": [
    {
     "output_type": "execute_result",
     "data": {
      "text/plain": "[0, 1, 3, 6]"
     },
     "metadata": {},
     "execution_count": 21
    }
   ],
   "source": [
    "yarrr = [0, 1, 2, 3]\n",
    "for x in range(len(yarrr)):\n",
    "    if 0 < x:\n",
    "        thing1 = yarrr[x - 1]\n",
    "        yarrr[x] += thing1\n",
    "yarrr\n"
   ]
  },
  {
   "cell_type": "code",
   "execution_count": 22,
   "metadata": {},
   "outputs": [
    {
     "output_type": "stream",
     "name": "stdout",
     "text": "[0. 0. 0. 0. 0.]\n[11. 12. 14.  1.  2.]\n[11. 12. 14.  1.  2.]\n"
    }
   ],
   "source": [
    "cumulative = np.zeros(5)\n",
    "print(cumulative)\n",
    "for i in range(len(freqs)):\n",
    "    cumulative[i] = freqs[i]\n",
    "print(cumulative)\n",
    "print(freqs)\n",
    "\n"
   ]
  },
  {
   "cell_type": "code",
   "execution_count": 23,
   "metadata": {},
   "outputs": [
    {
     "output_type": "stream",
     "name": "stdout",
     "text": "[11. 23. 37. 38. 40.]\n[11. 12. 14.  1.  2.]\n"
    }
   ],
   "source": [
    "for x in range(1, len(cumulative)):\n",
    "    thingy = cumulative[x - 1]\n",
    "    cumulative[x] += thingy\n",
    "print(cumulative)\n",
    "print(freqs)"
   ]
  },
  {
   "cell_type": "code",
   "execution_count": 24,
   "metadata": {},
   "outputs": [
    {
     "output_type": "execute_result",
     "data": {
      "text/plain": "array([11., 23., 37., 38., 40.])"
     },
     "metadata": {},
     "execution_count": 24
    }
   ],
   "source": [
    "np.cumsum(freqs)"
   ]
  },
  {
   "cell_type": "markdown",
   "metadata": {},
   "source": [
    "\n",
    "Relative frequency is used for finding the percents of things. Apparently it's not used for anything in the real world, so I guess it's also used for giving people homework. Cumulative frequency is more interesting because it is used to make decisions, developing stuff, analyzing of stuff, and to forecast things. So if a scientist is looking at floods n' stuff, they can see how likely it is for a flood is going to happen again based on how often it has happened in the past. Also, I didn't really need headings and lists and stuff, but here are some just for fun. \n",
    "\n",
    "# Hi\n",
    "## *Hello*\n",
    "### Bello\n",
    "#### Greetings\n",
    "##### ~~Salutations~~\n",
    "###### Hey\n",
    "\n",
    "~~Apparently this strikethrough is GitHub flavored.~~\n",
    "\n",
    "> What does this do?\n",
    ">> OOooooohhHHHhhhhhHH spooopy\n",
    "\n",
    "* **Wun**\n",
    "* ***Too***\n",
    "* Twee\n",
    "\n",
    "1. A\n",
    "2. B\n",
    "3. C\n",
    "4. D \n",
    "    * Fore?\n",
    "* [ ] hugs\n",
    "* [x] kissies\n",
    "\n",
    "  [ ] huggie\n",
    "  [x] wuggie\n",
    "\n",
    "[Lookie cookie!](https://orteil.dashnet.org/cookieclicker/)"
   ]
  },
  {
   "cell_type": "code",
   "execution_count": 25,
   "metadata": {},
   "outputs": [
    {
     "output_type": "execute_result",
     "data": {
      "text/plain": "array([1194, 4222,  595, 1346,  920, 3031, 1224, 1653, 3307, 4230, 3958,\n       1434, 3346, 4963, 4357, 3202, 3093, 3269, 2899, 2795, 3154, 4901,\n       3933,  420, 2915, 1768, 1670,  949, 2309, 4397, 4838, 1490, 4661,\n        852, 3964, 4806, 1656, 1353, 2173, 3497, 4189, 1313, 3246, 2782,\n       3164,  852, 1808, 1617, 2825,  668, 1046, 3973, 1579,  737, 2023,\n        619, 4122, 2496, 2948, 3639,  941, 1762, 4962, 3220, 1444,  615,\n        830,  251, 2436, 4925,  304,  955, 4279, 4357, 4419, 1574, 3884,\n       3751,  639, 3154,  887, 3662, 4269, 2307, 1640,  517, 1927, 2659,\n       4410, 2238,  290, 3515, 2204, 3972, 3644, 3007, 2110, 2932, 2224,\n       4034,  339,  673, 4388, 2078, 1584,  913, 3351, 1469, 2388, 2683,\n       2120, 1205, 2853, 4535, 1126, 4356, 2572, 1179, 3352, 3190,  738,\n       3608, 3107, 2539, 1517, 1205, 3416, 2456, 1737, 4115,  952, 4671,\n        979, 2282, 1024, 3886, 4596, 3156,  899, 4780,  773, 3958, 2136,\n        664, 4871, 4159, 2695, 3644, 3859,  625,  455, 4668, 2046,  515,\n       2004, 4020, 4860, 4931, 4457, 3010, 4152,  770, 1304, 1797, 1956,\n       4819, 4758, 2169, 1897, 1947, 1643, 2721, 4597, 4333, 4465, 1464,\n       1482, 2083, 3022, 4187, 2654, 4614, 3299, 2290, 3494,  438, 3285,\n       3593, 4145, 3035, 4102, 4415,   61, 1045,  172, 4920, 3817, 4861,\n       4582, 1111, 4576, 1174, 1087, 4103, 1964,  234,  331, 4585, 1860,\n       2187, 3563, 3197, 3849, 3405, 4333, 3622, 1468, 3223, 1105, 1846,\n        749, 2001, 3259,  373, 1949, 4092,  439, 4755, 4153, 4607,  509,\n       3431, 3270, 2793, 4574,  666, 2915, 4097, 3843, 3226,  120, 3880,\n       2005, 1697,  420, 1704, 1932, 1185, 3636,  383,  737, 1035, 1622,\n        588, 4699, 4757, 4375, 2517,  243, 3813, 2037,   83, 2988,  317,\n       2203, 3382, 2803, 3391, 2876, 1077, 4435,  432, 4340, 1751, 1974,\n       3540, 2324, 3766, 1443, 1742, 2681,  159, 4994,  149, 2083, 4798,\n       1644,  735, 2084,  712, 3867, 1883,  665,  623, 2227, 3661, 2292,\n       3942, 4173, 1509, 4911, 4613, 3477, 2274, 2302, 4790, 1254,  650,\n       1356, 4993, 3115, 2723, 3118, 4337, 3246, 2066, 4254,  514, 4274,\n       4241, 4039, 1239, 1453, 4039,  442, 3032, 2162, 4830, 3113, 2203,\n       1313, 3954, 1920, 3559,  922, 4691, 2562, 2516, 2134, 3467, 1210,\n       4311, 4880, 4030, 1447, 2614, 2823, 2655,  396, 2314,  737, 3180,\n       2604, 1067, 1171, 1787,  227, 4057,  388, 3623,  596, 2837, 3371,\n       3101, 1048, 2924, 2407, 1982,  848,  965, 1344,  619,  871, 3750,\n       4921, 2782, 4713, 3266, 2462,  880, 3123, 3465, 4965, 1526, 1561,\n       3127, 2609, 2438, 2334, 4060, 3060, 3830, 4671, 3698, 2027, 1518,\n       4633, 2791,  314, 2517, 1192, 1293, 4114, 1150, 1116, 4446, 1991,\n       4148, 1116,   94,  218,  343, 1356, 3671, 4621, 2618, 1774, 3119,\n       3457, 3114,  215,  795, 4251, 4052, 3031,  570, 4763,  980, 1267,\n       2325, 2948,  498, 3447, 4718, 1428, 2809, 4109,  557, 4650, 1205,\n        820, 1852, 4731,  475, 4779,  566, 2172, 4822, 1270, 1366,  117,\n       3565, 1769,  350,  534, 3215,  353, 3613,  876,  877, 4164, 3912,\n       3060, 2221, 3464, 2304, 1676, 3183, 4853, 1974, 2064, 2156,  125,\n       3162, 2042, 4402, 3667, 4947, 2319, 1881, 2066, 1544, 4250, 4096,\n        747, 4852, 2440,  236, 4262, 4136, 1781, 3192, 3655, 2246, 4545,\n        658, 1431, 4997, 2235, 1073, 2069, 3522, 2453, 3604, 4387, 1193,\n       3241, 4583, 4778,  132,  165, 4718,  959, 2269,  377,  649, 2563,\n        386, 2619, 4678, 3579, 2598,  688,  613, 4061, 4247,  189, 4988,\n       1668,  865, 1465, 2316, 1650, 4476, 2984, 1402, 3246, 2187, 3412,\n       3047, 4209, 1032, 2284, 3716, 3700, 1827, 2972, 4623, 3336, 4234,\n       2466, 3154, 3554, 1438, 1731,  295, 4346, 2179, 4140, 1014, 3178,\n        172, 4195, 3796,  771, 2825, 3453, 3596, 3496,  889, 2907, 2507,\n       3690, 1802, 3185, 1252, 2238, 2203,  559, 2056,  800, 1073, 3698,\n       4664, 3358, 3323, 1435, 4643,  417,  123, 2949, 2480, 1344, 3372,\n       2023, 1934, 2653, 3726, 1318, 2031, 1292, 4367, 3248, 1733, 1169,\n       2189, 2181,  546, 2167, 4204, 4729, 3032, 2129, 2641,   84, 4077,\n        176, 3712, 1847, 2237, 1044, 1744, 4518, 4627, 4133, 1778, 3413,\n       4519, 2982,  735, 4146, 2610, 2515, 4887, 4312, 1181, 2196, 4526,\n       4186, 3459, 2896, 1964, 1240, 2716,  460, 2667, 3674,   73,  657,\n       3669, 2171, 2546,  705, 4912,  374,  107, 1750, 3566, 1730, 1428,\n       2334, 1006,  844, 3758,  740, 3011,  299, 4472, 1777, 2778, 3806,\n       1338, 3984,  594,  694, 1710, 3477, 1546, 3505, 1236, 2329, 3288,\n       4360, 3305, 1769,  153, 2404,  111,  277,  966, 4460, 3923, 3445,\n       1076, 1413, 1726,  710, 4791, 1333, 4414, 2516, 1645, 2973, 3820,\n       2685, 2036, 3488, 2431, 2017, 3008, 1948, 4749, 1566, 1321, 2123,\n       2610, 4811, 2633, 2541, 1679, 3583, 4060, 2828, 4146, 1058, 3973,\n       2427, 3052, 2246, 1143,  753, 3291, 2769, 2464, 2979, 2115, 4211,\n       3451, 3205, 3415, 3995, 4684, 3053,   66, 3568, 1488, 1878,   75,\n       3258, 2226, 4147, 3529,  645, 4289, 1711, 4659, 2367, 3627, 3908,\n       1594, 4277, 1941, 2839,  276, 4695,  264,  811,  584, 2637,  819,\n        352, 1092, 1587,  689, 3896,  285, 2846, 2083, 4432, 4979, 4986,\n       3211,  283, 2913, 4654, 4310,  855, 4602,  175, 4587, 2945, 2915,\n       3233, 1811,  679,   54, 1932, 2721,  742, 2292, 4981, 3757, 4003,\n       4396, 2536, 1260, 3099, 1636, 4072, 4510, 1202, 3991, 1599, 1405,\n       3199, 4529, 3023, 4599,  201, 2835, 2756, 4722, 2534,  558, 2704,\n       3319,  852, 4865, 1939, 2988, 3130, 4286, 4414, 3572, 1607, 4816,\n       1719,  306, 4283, 1589, 4794, 3138, 4696, 3843,  256,  464, 1050,\n       1918, 4861, 2056,  164, 2667, 3312,  898, 1054, 4676, 1501, 4087,\n       1918,  790, 1020,  895, 1444, 1435, 2533,  917,  557,  584, 3648,\n        336, 3299, 2897, 3899, 2011, 4265, 3565, 4269, 3239, 3726, 2402,\n       1295, 1338, 1100, 1932, 1896, 3187, 2358, 1736, 1413, 1024, 2684,\n       1563, 1838, 4049, 1023, 3680, 3426,   53,  809, 3698, 3484, 2198,\n       2430, 4173,  260,  550, 3201, 4856, 3316,  573, 1062,  106, 4836,\n       3064,  764, 2890, 3719, 1157, 2738, 2521, 2201, 1523, 2418, 4257,\n       4803, 3056,   55, 4051, 1994, 4570, 4148, 3081, 3732, 3251, 4994,\n       1722, 2188, 2367, 2158, 4279, 1814,  282, 3131, 4508, 1512, 3171,\n       3624,  843,  960, 4852, 2476, 4451, 1947, 3210, 2391, 4350, 1624,\n       4535, 2150, 2263,  556, 1682,  326, 1662, 2611,  786, 4868, 2116,\n        604,  295, 2941,  660, 4734, 4441, 2932, 2872, 4999, 1154, 2448,\n       1742,  691, 1940, 1118, 4882, 1188, 3194, 1887,  451, 2230,  698,\n       3485, 1808,  617,  739, 4635, 1402,  405, 3422,  375,  266])"
     },
     "metadata": {},
     "execution_count": 25
    }
   ],
   "source": [
    "chocolates"
   ]
  }
 ],
 "metadata": {
  "language_info": {
   "codemirror_mode": {
    "name": "ipython",
    "version": 3
   },
   "file_extension": ".py",
   "mimetype": "text/x-python",
   "name": "python",
   "nbconvert_exporter": "python",
   "pygments_lexer": "ipython3",
   "version": "3.7.4-final"
  },
  "orig_nbformat": 2,
  "kernelspec": {
   "name": "python3",
   "display_name": "Python 3"
  }
 },
 "nbformat": 4,
 "nbformat_minor": 2
}